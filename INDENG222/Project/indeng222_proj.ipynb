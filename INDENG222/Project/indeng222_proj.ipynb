{
 "cells": [
  {
   "cell_type": "code",
   "execution_count": 1,
   "metadata": {},
   "outputs": [],
   "source": [
    "import numpy as np\n",
    "import matplotlib.pyplot as plt\n",
    "import math"
   ]
  },
  {
   "cell_type": "markdown",
   "metadata": {},
   "source": [
    "In this project, N is the number of time steps, M is the number of of path generated for the Brownian motion. For example, you could take N = 100 and M = 10, 000."
   ]
  },
  {
   "cell_type": "markdown",
   "metadata": {},
   "source": [
    "## (1) Brownian motion and Black Scholes model"
   ]
  },
  {
   "cell_type": "markdown",
   "metadata": {},
   "source": [
    "#### (1.1) Brownian motion"
   ]
  },
  {
   "cell_type": "markdown",
   "metadata": {},
   "source": [
    "(1.1.1) By using the rescaled random walk, build a program which give a path of a Brownian motion on [0, 1] with a time subdivision t_i = $\\frac{i}{N}$ , 0 $\\leq$ i $\\leq$ N "
   ]
  },
  {
   "cell_type": "code",
   "execution_count": 5,
   "metadata": {},
   "outputs": [
    {
     "data": {
      "text/plain": [
       "[<matplotlib.lines.Line2D at 0x277e47f6f50>]"
      ]
     },
     "execution_count": 5,
     "metadata": {},
     "output_type": "execute_result"
    },
    {
     "data": {
      "image/png": "[encoded data removed]",
      "text/plain": [
       "<Figure size 640x480 with 1 Axes>"
      ]
     },
     "metadata": {},
     "output_type": "display_data"
    }
   ],
   "source": [
    "N = 100\n",
    "np.random.seed(54321)\n",
    "\n",
    "def walk(N):\n",
    "    walks = np.random.rand(N)>0.5\n",
    "    W = np.zeros(N+1)\n",
    "    for i in range(len(walks)):\n",
    "        # +1 if the value is > 0.5 else -1\n",
    "        if walks[i]: W[i+1] = W[i] + 1\n",
    "        else: W[i+1] = W[i] - 1\n",
    "    # scale the term\n",
    "    W = W/np.sqrt(N)\n",
    "    x_axis = np.arange(0, 1, 1/N)\n",
    "    np.append(x_axis, 1)\n",
    "    return x_axis, W\n",
    "\n",
    "x_axis, W = walk(N)\n",
    "plt.plot(x_axis, W[:-1])"
   ]
  },
  {
   "cell_type": "markdown",
   "metadata": {},
   "source": [
    "(1.1.2) Generate M path of a Brownian motion, prove numerically that E[$W_t$] = 0 and Var($W_t$) = t for different values of t."
   ]
  },
  {
   "cell_type": "code",
   "execution_count": 87,
   "metadata": {},
   "outputs": [],
   "source": [
    "N = 100\n",
    "M = 10000\n",
    "np.random.seed(54321)\n",
    "\n",
    "walks = []\n",
    "for i in range(M):\n",
    "    # generate simple random walk\n",
    "    _, cur_W = walk(N)\n",
    "    walks.append(cur_W[:-1])\n",
    "\n",
    "walks = np.array(walks)"
   ]
  },
  {
   "cell_type": "code",
   "execution_count": 8,
   "metadata": {},
   "outputs": [
    {
     "data": {
      "text/plain": [
       "array([ 0.     , -0.00288, -0.00332,  0.00092,  0.00146, -0.0007 ,\n",
       "        0.00318,  0.00126])"
      ]
     },
     "execution_count": 8,
     "metadata": {},
     "output_type": "execute_result"
    }
   ],
   "source": [
    "# value of E[Wt] at random indices\n",
    "np.mean(walks[:, [i for i in range(0, N, 13)]], axis=0)\n",
    "\n",
    "# we can see that the mean at random indices are close to 0."
   ]
  },
  {
   "cell_type": "code",
   "execution_count": 9,
   "metadata": {},
   "outputs": [
    {
     "data": {
      "text/plain": [
       "array([0.000000e+00, 2.916000e-07, 3.501504e-04, 1.142500e-04,\n",
       "       7.078400e-06, 5.602916e-04, 7.138496e-04, 1.759600e-04,\n",
       "       1.057424e-04, 9.961584e-04])"
      ]
     },
     "execution_count": 9,
     "metadata": {},
     "output_type": "execute_result"
    }
   ],
   "source": [
    "# absolute difference between var(Wt) and t at random indices\n",
    "\n",
    "np.abs(np.var(walks[:, [i for i in range(10)]], axis=0) \\\n",
    "    - np.arange(0, 1, 1/N)[:10])\n",
    "\n",
    "# again, we show that the variance at random indices i is very close to i itself."
   ]
  },
  {
   "cell_type": "markdown",
   "metadata": {},
   "source": [
    "(1.1.3) Compute numerically $[W, W]_t$ and observe that $[W, W]_t$ = t for some value of t."
   ]
  },
  {
   "cell_type": "code",
   "execution_count": 55,
   "metadata": {},
   "outputs": [
    {
     "data": {
      "text/plain": [
       "([0.10000000000000003, 0.30000000000000004, 0.5, 0.7, 0.9000000000000004],\n",
       " [0.0, 0.0, 0.0, 0.0, 0.0],\n",
       " array([0.1, 0.3, 0.5, 0.7, 0.9]))"
      ]
     },
     "execution_count": 55,
     "metadata": {},
     "output_type": "execute_result"
    }
   ],
   "source": [
    "ts = np.arange(0.1, 1.1, 0.2) # choose t as some random value between 0 and 1\n",
    "qvs_mean, qvs_std = [], []\n",
    "for t in ts:\n",
    "    steps = int(t * N)\n",
    "    # limit the walks range for each t and calculate the mean/variance\n",
    "    qvs_mean.append(np.mean(np.sum(np.diff(walks[:, :steps+1])**2, axis=1)))\n",
    "    qvs_std.append(round(np.std(np.sum(np.diff(walks[:, :steps+1])**2, axis=1)), 5))\n",
    "\n",
    "qvs_mean, qvs_std, ts\n",
    "\n",
    "# the result shows that the quadratic variation at time t will just be t, \n",
    "# and the variance of the quadratic variation is very close to 0."
   ]
  },
  {
   "cell_type": "markdown",
   "metadata": {},
   "source": [
    "#### (1.2) Stochastic integral"
   ]
  },
  {
   "cell_type": "markdown",
   "metadata": {},
   "source": [
    "In this section we are studying\n",
    "\n",
    "$$\n",
    "    I = \\int_0^1W_sdW_s\n",
    "$$\n",
    "\n",
    "We propose two schemes to approach numerically I on each path w $\\in \\Omega$:\n",
    "\n",
    "$$\n",
    "    I^-(w) = \\sum_{i = 0}^NW_{t_{i+1}}(w)(W_{t{i+1}}(w) - W_{t_{i}}(w))\n",
    "$$\n",
    "\n",
    "or \n",
    "\n",
    "$$\n",
    "    I_-(w) = \\sum_{i = 0}^NW_{t_{i}}(w)(W_{t_{i+1}}(w) - W_{t_{i}}(w))\n",
    "$$"
   ]
  },
  {
   "cell_type": "markdown",
   "metadata": {},
   "source": [
    "(1.2.1) Observe numerically that $I^-=\\frac{1}{2}W_1^2 + \\frac{1}{2}$ almost surely"
   ]
  },
  {
   "cell_type": "code",
   "execution_count": 90,
   "metadata": {},
   "outputs": [
    {
     "data": {
      "text/plain": [
       "(0.9919377777777775, 0.9936044444444444)"
      ]
     },
     "execution_count": 90,
     "metadata": {},
     "output_type": "execute_result"
    }
   ],
   "source": [
    "I_upper = np.mean(np.sum((np.diff(walks) * walks[:, 1:]), axis=1))\n",
    "theoretical_val = 0.5 * np.mean(walks[:, -1]**2) + 0.5\n",
    "\n",
    "I_upper, theoretical_val"
   ]
  },
  {
   "cell_type": "markdown",
   "metadata": {},
   "source": [
    "(1.2.2) Observe numerically that $I_-=\\frac{1}{2}W_1^2 - \\frac{1}{2}$ almost surely"
   ]
  },
  {
   "cell_type": "code",
   "execution_count": 93,
   "metadata": {},
   "outputs": [
    {
     "data": {
      "text/plain": [
       "(-0.0047288888888888814, -0.006395555555555599)"
      ]
     },
     "execution_count": 93,
     "metadata": {},
     "output_type": "execute_result"
    }
   ],
   "source": [
    "I_lower = np.mean(np.sum((np.diff(walks) * walks[:, :-1]), axis=1))\n",
    "theoretical_val = 0.5 * np.mean(walks[:, -1]**2) - 0.5\n",
    "\n",
    "I_lower, theoretical_val"
   ]
  },
  {
   "cell_type": "markdown",
   "metadata": {},
   "source": [
    "(1.2.3) Which definition of I do we keep in view of Ito’s formula applied to $W^2_1$?"
   ]
  },
  {
   "cell_type": "markdown",
   "metadata": {},
   "source": []
  },
  {
   "cell_type": "markdown",
   "metadata": {},
   "source": [
    "(1.2.4) Compute numerically $E[I]$ and $E[I^2]$ for the choice of I made in question 3. and compare with the theoretical values."
   ]
  },
  {
   "cell_type": "code",
   "execution_count": 100,
   "metadata": {},
   "outputs": [
    {
     "data": {
      "text/plain": [
       "(-0.006395555555555599, 0.49803366962962936)"
      ]
     },
     "execution_count": 100,
     "metadata": {},
     "output_type": "execute_result"
    }
   ],
   "source": [
    "# the theoretical expectation is 0 and variance is 1/2.\n",
    "simulated_expectation = 0.5 * np.mean(walks[:, -1]**2) - 0.5\n",
    "simulated_variance = 0.25 * np.std(walks[:, -1]**2)**2 + simulated_expectation**2\n",
    "\n",
    "simulated_expectation, simulated_variance"
   ]
  },
  {
   "cell_type": "markdown",
   "metadata": {},
   "source": [
    "## 2 Black-Scholes v.s. Bachelier"
   ]
  },
  {
   "cell_type": "markdown",
   "metadata": {},
   "source": []
  }
 ],
 "metadata": {
  "kernelspec": {
   "display_name": "Python 3",
   "language": "python",
   "name": "python3"
  },
  "language_info": {
   "codemirror_mode": {
    "name": "ipython",
    "version": 3
   },
   "file_extension": ".py",
   "mimetype": "text/x-python",
   "name": "python",
   "nbconvert_exporter": "python",
   "pygments_lexer": "ipython3",
   "version": "3.11.9"
  }
 },
 "nbformat": 4,
 "nbformat_minor": 2
}
