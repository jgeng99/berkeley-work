{
 "cells": [
  {
   "cell_type": "code",
   "execution_count": 1,
   "metadata": {},
   "outputs": [],
   "source": [
    "import numpy as np\n",
    "import matplotlib.pyplot as plt\n",
    "import math\n",
    "from scipy.stats import norm"
   ]
  },
  {
   "cell_type": "markdown",
   "metadata": {},
   "source": [
    "In this project, N is the number of time steps, M is the number of of path generated for the Brownian motion. For example, you could take N = 100 and M = 10, 000."
   ]
  },
  {
   "cell_type": "markdown",
   "metadata": {},
   "source": [
    "## (1) Brownian motion and Black Scholes model"
   ]
  },
  {
   "cell_type": "markdown",
   "metadata": {},
   "source": [
    "#### (1.1) Brownian motion"
   ]
  },
  {
   "cell_type": "markdown",
   "metadata": {},
   "source": [
    "(1.1.1) By using the rescaled random walk, build a program which give a path of a Brownian motion on [0, 1] with a time subdivision t_i = $\\frac{i}{N}$ , 0 $\\leq$ i $\\leq$ N "
   ]
  },
  {
   "cell_type": "code",
   "execution_count": 2,
   "metadata": {},
   "outputs": [
    {
     "data": {
      "text/plain": [
       "[<matplotlib.lines.Line2D at 0x2197f50d390>]"
      ]
     },
     "execution_count": 2,
     "metadata": {},
     "output_type": "execute_result"
    },
    {
     "data": {
      "image/png": "[encoded data removed]",
      "text/plain": [
       "<Figure size 640x480 with 1 Axes>"
      ]
     },
     "metadata": {},
     "output_type": "display_data"
    }
   ],
   "source": [
    "N = 100\n",
    "np.random.seed(54321)\n",
    "\n",
    "def walk(N):\n",
    "    walks = np.random.rand(N)>0.5\n",
    "    W = np.zeros(N+1)\n",
    "    for i in range(len(walks)):\n",
    "        # +1 if the value is > 0.5 else -1\n",
    "        if walks[i]: W[i+1] = W[i] + 1\n",
    "        else: W[i+1] = W[i] - 1\n",
    "    # scale the term\n",
    "    W = W/np.sqrt(N)\n",
    "    x_axis = np.arange(0, 1, 1/N)\n",
    "    np.append(x_axis, 1)\n",
    "    return x_axis, W\n",
    "\n",
    "x_axis, W = walk(N)\n",
    "plt.plot(x_axis, W[:-1])"
   ]
  },
  {
   "cell_type": "markdown",
   "metadata": {},
   "source": [
    "(1.1.2) Generate M path of a Brownian motion, prove numerically that E[$W_t$] = 0 and Var($W_t$) = t for different values of t."
   ]
  },
  {
   "cell_type": "code",
   "execution_count": 3,
   "metadata": {},
   "outputs": [],
   "source": [
    "N = 100\n",
    "M = 10000\n",
    "np.random.seed(54321)\n",
    "\n",
    "walks = []\n",
    "for i in range(M):\n",
    "    # generate simple random walk\n",
    "    _, cur_W = walk(N)\n",
    "    walks.append(cur_W[:-1])\n",
    "\n",
    "walks = np.array(walks)"
   ]
  },
  {
   "cell_type": "code",
   "execution_count": 4,
   "metadata": {},
   "outputs": [
    {
     "data": {
      "text/plain": [
       "array([ 0.     , -0.00288, -0.00332,  0.00092,  0.00146, -0.0007 ,\n",
       "        0.00318,  0.00126])"
      ]
     },
     "execution_count": 4,
     "metadata": {},
     "output_type": "execute_result"
    }
   ],
   "source": [
    "# value of E[Wt] at random indices\n",
    "np.mean(walks[:, [i for i in range(0, N, 13)]], axis=0)\n",
    "\n",
    "# we can see that the mean at random indices are close to 0."
   ]
  },
  {
   "cell_type": "code",
   "execution_count": 5,
   "metadata": {},
   "outputs": [
    {
     "data": {
      "text/plain": [
       "array([0.000000e+00, 2.916000e-07, 3.501504e-04, 1.142500e-04,\n",
       "       7.078400e-06, 5.602916e-04, 7.138496e-04, 1.759600e-04,\n",
       "       1.057424e-04, 9.961584e-04])"
      ]
     },
     "execution_count": 5,
     "metadata": {},
     "output_type": "execute_result"
    }
   ],
   "source": [
    "# absolute difference between var(Wt) and t at random indices\n",
    "\n",
    "np.abs(np.var(walks[:, [i for i in range(10)]], axis=0) \\\n",
    "    - np.arange(0, 1, 1/N)[:10])\n",
    "\n",
    "# again, we show that the variance at random indices i is very close to i itself."
   ]
  },
  {
   "cell_type": "markdown",
   "metadata": {},
   "source": [
    "(1.1.3) Compute numerically $[W, W]_t$ and observe that $[W, W]_t$ = t for some value of t."
   ]
  },
  {
   "cell_type": "code",
   "execution_count": 6,
   "metadata": {},
   "outputs": [
    {
     "data": {
      "text/plain": [
       "([0.10000000000000003, 0.30000000000000004, 0.5, 0.7, 0.9000000000000004],\n",
       " [0.0, 0.0, 0.0, 0.0, 0.0],\n",
       " array([0.1, 0.3, 0.5, 0.7, 0.9]))"
      ]
     },
     "execution_count": 6,
     "metadata": {},
     "output_type": "execute_result"
    }
   ],
   "source": [
    "ts = np.arange(0.1, 1.1, 0.2) # choose t as some random value between 0 and 1\n",
    "qvs_mean, qvs_std = [], []\n",
    "for t in ts:\n",
    "    steps = int(t * N)\n",
    "    # limit the walks range for each t and calculate the mean/variance\n",
    "    qvs_mean.append(np.mean(np.sum(np.diff(walks[:, :steps+1])**2, axis=1)))\n",
    "    qvs_std.append(round(np.std(np.sum(np.diff(walks[:, :steps+1])**2, axis=1)), 5))\n",
    "\n",
    "qvs_mean, qvs_std, ts\n",
    "\n",
    "# the result shows that the quadratic variation at time t will just be t, \n",
    "# and the variance of the quadratic variation is very close to 0."
   ]
  },
  {
   "cell_type": "markdown",
   "metadata": {},
   "source": [
    "#### (1.2) Stochastic integral"
   ]
  },
  {
   "cell_type": "markdown",
   "metadata": {},
   "source": [
    "In this section we are studying\n",
    "\n",
    "$$\n",
    "    I = \\int_0^1W_sdW_s\n",
    "$$\n",
    "\n",
    "We propose two schemes to approach numerically I on each path w $\\in \\Omega$:\n",
    "\n",
    "$$\n",
    "    I^-(w) = \\sum_{i = 0}^NW_{t_{i+1}}(w)(W_{t{i+1}}(w) - W_{t_{i}}(w))\n",
    "$$\n",
    "\n",
    "or \n",
    "\n",
    "$$\n",
    "    I_-(w) = \\sum_{i = 0}^NW_{t_{i}}(w)(W_{t_{i+1}}(w) - W_{t_{i}}(w))\n",
    "$$"
   ]
  },
  {
   "cell_type": "markdown",
   "metadata": {},
   "source": [
    "(1.2.1) Observe numerically that $I^-=\\frac{1}{2}W_1^2 + \\frac{1}{2}$ almost surely"
   ]
  },
  {
   "cell_type": "code",
   "execution_count": 7,
   "metadata": {},
   "outputs": [
    {
     "data": {
      "text/plain": [
       "(0.983876, 0.9888759999999999)"
      ]
     },
     "execution_count": 7,
     "metadata": {},
     "output_type": "execute_result"
    }
   ],
   "source": [
    "I_upper = np.mean(np.sum((np.diff(walks) * walks[:, 1:]), axis=1))\n",
    "theoretical_val = 0.5 * np.mean(walks[:, -1]**2) + 0.5\n",
    "\n",
    "I_upper, theoretical_val"
   ]
  },
  {
   "cell_type": "markdown",
   "metadata": {},
   "source": [
    "(1.2.2) Observe numerically that $I_-=\\frac{1}{2}W_1^2 - \\frac{1}{2}$ almost surely"
   ]
  },
  {
   "cell_type": "code",
   "execution_count": 8,
   "metadata": {},
   "outputs": [
    {
     "data": {
      "text/plain": [
       "(-0.006123999999999932, -0.011124000000000078)"
      ]
     },
     "execution_count": 8,
     "metadata": {},
     "output_type": "execute_result"
    }
   ],
   "source": [
    "I_lower = np.mean(np.sum((np.diff(walks) * walks[:, :-1]), axis=1))\n",
    "theoretical_val = 0.5 * np.mean(walks[:, -1]**2) - 0.5\n",
    "\n",
    "I_lower, theoretical_val"
   ]
  },
  {
   "cell_type": "markdown",
   "metadata": {},
   "source": [
    "(1.2.3) Which definition of I do we keep in view of Ito’s formula applied to $W^2_1$?"
   ]
  },
  {
   "cell_type": "markdown",
   "metadata": {},
   "source": [
    "- When applying Ito's formula to $W_1^2$, we aim to oderive the stoachastic integral of $W_tdW_t.$ The Ito's decomposition of $f(W_t)=W_t^2$ is $$df(W_t)=2W_tdW_t+dt.$$ Integrating both sides from 0 to 1 gives $$\\int_0^12W_tdW_t+\\int_0^1dt=W^2_1-W^2_0$$ Since $W_0=0,$ we have $$ \\int_0^1W_tdW_t=\\frac{1}{2}W^2_1-\\frac{1}{2}$$ which corresponds to $I_-(w)=\\sum_{i = 0}^NW_{t_{i}}(w)(W_{t_{i+1}}(w) - W_{t_{i}}(w))$ if we turn the integral into discrete summation. Hence $I_-$ is the choice we take."
   ]
  },
  {
   "cell_type": "markdown",
   "metadata": {},
   "source": [
    "(1.2.4) Compute numerically $E[I]$ and $E[I^2]$ for the choice of I made in question 3. and compare with the theoretical values."
   ]
  },
  {
   "cell_type": "code",
   "execution_count": 9,
   "metadata": {},
   "outputs": [
    {
     "data": {
      "text/plain": [
       "{'simulated expectation': -0.011124000000000078,\n",
       " 'simulated variance': 0.46426152,\n",
       " 'true expectation': 0,\n",
       " 'true variance': 0.5}"
      ]
     },
     "execution_count": 9,
     "metadata": {},
     "output_type": "execute_result"
    }
   ],
   "source": [
    "# the theoretical expectation is 0 and variance is 1/2.\n",
    "simulated_expectation = 0.5 * np.mean(walks[:, -1]**2) - 0.5\n",
    "simulated_variance = 0.25 * np.std(walks[:, -1]**2)**2 + simulated_expectation**2\n",
    "\n",
    "{\"simulated expectation\": simulated_expectation, \"simulated variance\": simulated_variance,\n",
    " \"true expectation\": 0, \"true variance\": 0.5}"
   ]
  },
  {
   "cell_type": "markdown",
   "metadata": {},
   "source": [
    "#### (1.3) Black-Scholes model"
   ]
  },
  {
   "cell_type": "markdown",
   "metadata": {},
   "source": [
    "(1.3.1) Solution to SDE"
   ]
  },
  {
   "cell_type": "markdown",
   "metadata": {},
   "source": [
    "The Black-Scholes price is solution to the following SDE under the risk neutral probability measure:\n",
    "$$\n",
    "dS_t = S_trdt + S_t\\sigma dW_t, S_0 > 0, r \\ge 0, \\sigma > 0.\n",
    "$$\n",
    "We denote by S the solution to such equation. \n",
    "- By using the discretization of the time $t_i = \\frac{i}{N}$ with $0 \\leq i \\leq N$, we introduce the following Euler-Maruyama numerical scheme: $$\\tilde{S}_0=S_0 \\\\ \\tilde{S}_{t_{i+1}} − \\tilde{S}_{t_{i}} =  \\tilde{S}_{t_{i}} r(t_{i+1} − t_i) + \\tilde{S}_{t_{i}} \\sigma (W_{t_{i+1}} − W_{t_i}) $$ Compare $\\tilde{S}_{t_{i}}$ and $S_0e^{\\sigma W_t+(r−\\sigma^2/2)t}$ for some values of $t \\in [0, 1]$."
   ]
  },
  {
   "cell_type": "code",
   "execution_count": 10,
   "metadata": {},
   "outputs": [
    {
     "data": {
      "text/plain": [
       "(104.34022793610154, 103.0454533953517)"
      ]
     },
     "execution_count": 10,
     "metadata": {},
     "output_type": "execute_result"
    }
   ],
   "source": [
    "# setup\n",
    "S0 = 100\n",
    "r = 0.05\n",
    "sig = 0.1\n",
    "N = 100\n",
    "M = 10000\n",
    "cur_walk = walks[99]\n",
    "\n",
    "# generate S tilde\n",
    "S_tilde = [S0]\n",
    "for i in range(1, N):\n",
    "    cur_S_tilde = S_tilde[i-1] + S_tilde[i-1] * r * (1/N) + S_tilde[i-1] * sig * (cur_walk[i] - cur_walk[i-1])\n",
    "    S_tilde.append(cur_S_tilde)\n",
    "\n",
    "test_idx = 50 # between 0 and 100\n",
    "S_tilde[test_idx], S0 * np.exp(sig * cur_walk[test_idx] + (test_idx / N) * (r-sig**2)/2)"
   ]
  },
  {
   "cell_type": "markdown",
   "metadata": {},
   "source": [
    "- Compute numerically $E[S_1]$ by approaching the expectation with the Monte Carlo method, that is $E[S_1] \\approx \\frac{1}{M}\\sum_{j=1}^MS^{(j)}_1$ where $S^{(j)}_1$ is the $jth$ simulation generated by you algorithm of $S_t$."
   ]
  },
  {
   "cell_type": "code",
   "execution_count": 11,
   "metadata": {},
   "outputs": [
    {
     "data": {
      "text/plain": [
       "105.0990753436162"
      ]
     },
     "execution_count": 11,
     "metadata": {},
     "output_type": "execute_result"
    }
   ],
   "source": [
    "# Repeat previous part for M times\n",
    "Ss = []\n",
    "for j in range(M):\n",
    "    S_tilde = [S0]\n",
    "    cur_walk = walks[j]\n",
    "    for i in range(1, N):\n",
    "        cur_S_tilde = S_tilde[i-1] + S_tilde[i-1] * r * (1/N) + \\\n",
    "                      S_tilde[i-1] * sig * (cur_walk[i] - cur_walk[i-1])\n",
    "        S_tilde.append(cur_S_tilde)\n",
    "    \n",
    "    Ss.append(S_tilde[-1])\n",
    "\n",
    "monte_carlo_price = np.mean(Ss)\n",
    "monte_carlo_price\n"
   ]
  },
  {
   "cell_type": "markdown",
   "metadata": {},
   "source": [
    "(1.3.2) Black-Scholes price of European call and put option"
   ]
  },
  {
   "cell_type": "markdown",
   "metadata": {},
   "source": [
    "- Create a function CallBS (resp. PutBS) with input $r, \\sigma, S_0, T, K$ which returns the Black-Scholes price of a European call (resp. put) option."
   ]
  },
  {
   "cell_type": "code",
   "execution_count": 12,
   "metadata": {},
   "outputs": [],
   "source": [
    "def CallBS(S0:float=100, K:float=100, r:float=0.1, sigma:float=0.1, \n",
    "        T:float=1, call:bool=True) -> float:\n",
    "    '''\n",
    "    Implementation of black shore. Served as the true value of the option.\n",
    "    @param s0: spot price for the stock\n",
    "    @param k: strike price\n",
    "    @param r: risk free rate\n",
    "    @param sigma: volatility\n",
    "    @param T: time span\n",
    "    @param call: if a call or put option\n",
    "    \n",
    "    @return out: value of the option \n",
    "    '''\n",
    "    d1 = (np.log(S0/K) + (r + sigma**2/2)*T) / (sigma*np.sqrt(T))\n",
    "    d2 = d1 - sigma* np.sqrt(T)\n",
    "    \n",
    "    if call:\n",
    "        out = S0 * norm.cdf(d1) - K * np.exp(-r*T) * norm.cdf(d2)\n",
    "    else:\n",
    "        out = K * np.exp(-r*T) * norm.cdf(-d2) - S0 * norm.cdf(-d1)\n",
    "    return out"
   ]
  },
  {
   "cell_type": "markdown",
   "metadata": {},
   "source": [
    "- Fix the initial price $S_0 = 40$ and $T = 1$. Observe that the price at time 0 of a call option is convex with respect to the strike."
   ]
  },
  {
   "cell_type": "code",
   "execution_count": 13,
   "metadata": {},
   "outputs": [
    {
     "data": {
      "text/plain": [
       "[<matplotlib.lines.Line2D at 0x2197f55de50>]"
      ]
     },
     "execution_count": 13,
     "metadata": {},
     "output_type": "execute_result"
    },
    {
     "data": {
      "image/png": "[encoded data removed]",
      "text/plain": [
       "<Figure size 640x480 with 1 Axes>"
      ]
     },
     "metadata": {},
     "output_type": "display_data"
    }
   ],
   "source": [
    "S0 = 40\n",
    "r = 0.05\n",
    "sigma = 0.3\n",
    "T = 1\n",
    "prices = []\n",
    "\n",
    "for k in range(S0, 141):\n",
    "    # iterate through value of K from 40 to 141\n",
    "    init_price_cur = CallBS(S0=S0, K=k, r=r, sigma=sigma, T=T)\n",
    "    prices.append(init_price_cur)\n",
    "\n",
    "plt.plot(range(S0, 141), prices)"
   ]
  },
  {
   "cell_type": "markdown",
   "metadata": {},
   "source": [
    "- Verify numerically the call-put parity for different values of the inputs."
   ]
  },
  {
   "cell_type": "code",
   "execution_count": 14,
   "metadata": {},
   "outputs": [
    {
     "data": {
      "text/plain": [
       "(0.23394200802222542, 0.23394200802222542)"
      ]
     },
     "execution_count": 14,
     "metadata": {},
     "output_type": "execute_result"
    }
   ],
   "source": [
    "S0 = 50\n",
    "r = 0.1\n",
    "sigma = 0.3\n",
    "T = 1\n",
    "K = 55\n",
    "\n",
    "# we want to verify that put-call parity holds\n",
    "callopt = CallBS(S0=S0, K=K, r=r, sigma=sigma, T=T, call=True)\n",
    "putopt = CallBS(S0=S0, K=K, r=r, sigma=sigma, T=T, call=False)\n",
    "\n",
    "LHS = callopt - putopt\n",
    "RHS = S0 - K*math.e**(-r)\n",
    "\n",
    "LHS, RHS"
   ]
  },
  {
   "cell_type": "markdown",
   "metadata": {},
   "source": [
    "#### (1.4) Approximation formula"
   ]
  },
  {
   "cell_type": "markdown",
   "metadata": {},
   "source": [
    "We recall that the ATM call option is such that $K^{ATM} = e^{rT} S_0.$"
   ]
  },
  {
   "cell_type": "markdown",
   "metadata": {},
   "source": [
    "(1.4.1) We recall that for $\\sigma \\sqrt{T}$ small enough, $CallBS(r, \\sigma, S_0, T, K^{ATM}) \\approx 0.4S_0\\sigma \\sqrt{T}.$ Check this property numerically by fixing $T=1$ and $\\sigma$ varying in a small interval."
   ]
  },
  {
   "cell_type": "code",
   "execution_count": 15,
   "metadata": {},
   "outputs": [
    {
     "data": {
      "text/plain": [
       "(array([1.99388058, 3.98278373, 5.96176924, 7.92597094, 9.87063257]),\n",
       " array([ 2.,  4.,  6.,  8., 10.]))"
      ]
     },
     "execution_count": 15,
     "metadata": {},
     "output_type": "execute_result"
    }
   ],
   "source": [
    "S0 = 50\n",
    "r = 0.1\n",
    "T = 1\n",
    "K = np.exp(r*T)*S0\n",
    "lhs = []\n",
    "rhs = []\n",
    "\n",
    "for sigma in range(1, 6):\n",
    "    sigma = sigma/10\n",
    "    lhs.append(CallBS(S0=S0, K=K, r=r, sigma=sigma, T=T, call=True))\n",
    "    rhs.append(0.4 * S0 * sigma * np.sqrt(T))\n",
    "\n",
    "np.array(lhs), np.array(rhs)"
   ]
  },
  {
   "cell_type": "markdown",
   "metadata": {},
   "source": [
    "(1.4.2) The Delta of a call option at the money is given by \n",
    "$$\n",
    "    \\Delta_0 = N(d_+),\n",
    "$$\n",
    "with $$d_+ = \\frac{\\sigma}{2}\\sqrt{T}.$$ We recall that for $\\sigma\\sqrt{T}$ small enough, $\\Delta \\approx 0.5 + 0.2\\sigma\\sqrt{T}.$ Check this property numerically by fixing $T = 1$ and $\\sigma$ varying in a small interval."
   ]
  },
  {
   "cell_type": "code",
   "execution_count": 16,
   "metadata": {},
   "outputs": [
    {
     "data": {
      "text/plain": [
       "(array([0.51993881, 0.53982784, 0.55961769, 0.57925971, 0.59870633]),\n",
       " array([0.52, 0.54, 0.56, 0.58, 0.6 ]))"
      ]
     },
     "execution_count": 16,
     "metadata": {},
     "output_type": "execute_result"
    }
   ],
   "source": [
    "S0 = 50\n",
    "r = 0.1\n",
    "T = 1\n",
    "K = np.exp(r*T)*S0\n",
    "lhs = []\n",
    "rhs = []\n",
    "\n",
    "for sigma in range(1, 6):\n",
    "    sigma = sigma/10\n",
    "    d1 = sigma * np.sqrt(T)/2\n",
    "    delta_cur = norm.cdf(d1)\n",
    "    lhs.append(delta_cur)\n",
    "    rhs.append(0.5 + 0.2 * sigma * np.sqrt(T))\n",
    "\n",
    "np.array(lhs), np.array(rhs)"
   ]
  },
  {
   "cell_type": "markdown",
   "metadata": {},
   "source": [
    "(1.4.3) The Vega of a call option at time 0 at the money is given by $$V = S_0N'(d_+)\\sqrt{T}.$$ We recall that for $\\sigma\\sqrt{T}$ small enough, $V \\approx 0.4S_0\\sqrt{T}.$ Check this property numerically by fixing T = 1 and σ varying in a small interval."
   ]
  },
  {
   "cell_type": "code",
   "execution_count": 17,
   "metadata": {},
   "outputs": [
    {
     "data": {
      "text/plain": [
       "(array([19.9221957 , 19.84762737, 19.72396655, 19.5521347 , 19.33340584]),\n",
       " array([20., 20., 20., 20., 20.]))"
      ]
     },
     "execution_count": 17,
     "metadata": {},
     "output_type": "execute_result"
    }
   ],
   "source": [
    "S0 = 50\n",
    "r = 0.1\n",
    "T = 1\n",
    "K = np.exp(r*T)*S0\n",
    "lhs = []\n",
    "rhs = []\n",
    "\n",
    "for sigma in range(1, 6):\n",
    "    sigma = sigma/10\n",
    "    d1 = sigma * np.sqrt(T)/2\n",
    "    vega_cur = S0 * norm.pdf(d1) * np.sqrt(T)\n",
    "    lhs.append(vega_cur)\n",
    "    rhs.append(0.4 * S0 * np.sqrt(T))\n",
    "\n",
    "np.array(lhs), np.array(rhs)"
   ]
  },
  {
   "cell_type": "markdown",
   "metadata": {},
   "source": [
    "## 2 Black-Scholes v.s. Bachelier"
   ]
  },
  {
   "cell_type": "markdown",
   "metadata": {},
   "source": [
    "We assume that r = 0. In the Bachelier model, we suppose that the price of this asset is\n",
    "$$\n",
    "S_t^{(B)} = S_0 + \\sigma^{(B)}W_t, \\ S_0>0, \\  \\sigma^{(B)} > 0\n",
    "$$\n",
    "The Bachelier price of a call option is given by\n",
    "$$\n",
    "CallBach(0, \\sigma^{(B)}, S_0, T, K) = E[(S_T^{(B)}-K)^+]=(S_0-K)N(\\frac{S_0-K}{\\sigma^{(B)}\\sqrt{T}})+ \\sigma^{(B)}\\phi(\\frac{S_0-K}{\\sigma^{(B)}\\sqrt{T}}),\n",
    "$$\n",
    "where $N$ is the c.d.f of the standard normal law and $\\phi(x)=\\frac{e^{-x^2}}{\\sqrt{2\\pi}}.$"
   ]
  },
  {
   "cell_type": "markdown",
   "metadata": {},
   "source": [
    "#### (2.1.1) Create a function CallBach with input $\\sigma^{(B)}, S_0, T, K$ which returns the Bachelier price of a European call option."
   ]
  },
  {
   "cell_type": "code",
   "execution_count": 22,
   "metadata": {},
   "outputs": [],
   "source": [
    "def CallBach(sig:float=0.3, s0:float=100, t:float=1, k:float=100):\n",
    "    '''\n",
    "    Implementation of bachelier model. Return the value of the option.\n",
    "    @param sig: volatility\n",
    "    @param s0: spot price for the stock\n",
    "    @param t: time span\n",
    "    @param k: strike price \n",
    "    \n",
    "    @return out: value of the option \n",
    "    '''\n",
    "    # compute d as per the Bachelier model\n",
    "    d = (s0 - k) / (sig * np.sqrt(t))\n",
    "\n",
    "    # calculate cdf and pdf of d\n",
    "    N_d = norm.cdf(d)\n",
    "    phi_d = norm.pdf(d)\n",
    "\n",
    "    out = (s0 - k) * N_d + sig * np.sqrt(T) * phi_d\n",
    "\n",
    "    return out"
   ]
  },
  {
   "cell_type": "code",
   "execution_count": 23,
   "metadata": {},
   "outputs": [
    {
     "data": {
      "text/plain": [
       "0.1196826841204298"
      ]
     },
     "execution_count": 23,
     "metadata": {},
     "output_type": "execute_result"
    }
   ],
   "source": [
    "CallBach()"
   ]
  },
  {
   "cell_type": "markdown",
   "metadata": {},
   "source": [
    "#### (2.1.2) Verify numerically that at the money (that is S0 = K) we have $$0\\leq Callbach(0, \\sigma^{(B)}, S_0, T, S_0) - CallBS(0, \\sigma^{(BS)}, S_0, T, S_0)\\\\ \\leq \\frac{S_0}{24\\sqrt{2\\pi}}|\\sigma^{(BS)}|^3T^{3/2},$$ where $\\sigma^{(B)}=S_0\\sigma^{(BS)}$"
   ]
  },
  {
   "cell_type": "code",
   "execution_count": 29,
   "metadata": {},
   "outputs": [
    {
     "data": {
      "text/plain": [
       "(0, 0.04472993799448233, 0.044881006545161174)"
      ]
     },
     "execution_count": 29,
     "metadata": {},
     "output_type": "execute_result"
    }
   ],
   "source": [
    "sig_bs = 0.3\n",
    "s0 = 100\n",
    "sig_ba = s0 * sig_bs\n",
    "t = 1\n",
    "\n",
    "lhs = 0\n",
    "mhs = CallBach(sig_ba, s0, t, s0) - CallBS(s0, s0, 0, sig_bs, t)\n",
    "rhs = (s0/(24*np.sqrt(2*math.pi))) * (abs(sig)**3) * t**(3/2)\n",
    "\n",
    "lhs, mhs, rhs"
   ]
  },
  {
   "cell_type": "markdown",
   "metadata": {},
   "source": []
  }
 ],
 "metadata": {
  "kernelspec": {
   "display_name": "Python 3",
   "language": "python",
   "name": "python3"
  },
  "language_info": {
   "codemirror_mode": {
    "name": "ipython",
    "version": 3
   },
   "file_extension": ".py",
   "mimetype": "text/x-python",
   "name": "python",
   "nbconvert_exporter": "python",
   "pygments_lexer": "ipython3",
   "version": "3.11.9"
  }
 },
 "nbformat": 4,
 "nbformat_minor": 2
}
