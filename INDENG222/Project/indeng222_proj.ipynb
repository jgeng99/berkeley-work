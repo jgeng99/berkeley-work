{
 "cells": [
  {
   "cell_type": "code",
   "execution_count": 1,
   "metadata": {},
   "outputs": [],
   "source": [
    "import numpy as np\n",
    "import pandas as pd\n",
    "import matplotlib.pyplot as plt\n",
    "import math\n",
    "from scipy.stats import norm\n",
    "from tqdm import tqdm"
   ]
  },
  {
   "cell_type": "markdown",
   "metadata": {},
   "source": [
    "## Jianming Geng, Jeffrey Wei\n",
    "\n",
    "In this project, N is the number of time steps, M is the number of of path generated for the Brownian motion. For example, you could take N = 100 and M = 10, 000."
   ]
  },
  {
   "cell_type": "markdown",
   "metadata": {},
   "source": [
    "## (1) Brownian motion and Black Scholes model"
   ]
  },
  {
   "cell_type": "markdown",
   "metadata": {},
   "source": [
    "#### (1.1) Brownian motion"
   ]
  },
  {
   "cell_type": "markdown",
   "metadata": {},
   "source": [
    "(1.1.1) By using the rescaled random walk, build a program which give a path of a Brownian motion on [0, 1] with a time subdivision t_i = $\\frac{i}{N}$ , 0 $\\leq$ i $\\leq$ N "
   ]
  },
  {
   "cell_type": "code",
   "execution_count": 2,
   "metadata": {},
   "outputs": [
    {
     "data": {
      "text/plain": [
       "[<matplotlib.lines.Line2D at 0x18d983ed9d0>]"
      ]
     },
     "execution_count": 2,
     "metadata": {},
     "output_type": "execute_result"
    },
    {
     "data": {
      "image/png": "[encoded data removed]",
      "text/plain": [
       "<Figure size 640x480 with 1 Axes>"
      ]
     },
     "metadata": {},
     "output_type": "display_data"
    }
   ],
   "source": [
    "N = 100\n",
    "np.random.seed(54321)\n",
    "\n",
    "def walk(N):\n",
    "    walks = np.random.rand(N)>0.5\n",
    "    W = np.zeros(N+1)\n",
    "    for i in range(len(walks)):\n",
    "        # +1 if the value is > 0.5 else -1\n",
    "        if walks[i]: W[i+1] = W[i] + 1\n",
    "        else: W[i+1] = W[i] - 1\n",
    "    # scale the term\n",
    "    W = W/np.sqrt(N)\n",
    "    x_axis = np.arange(0, 1, 1/N)\n",
    "    np.append(x_axis, 1)\n",
    "    return x_axis, W\n",
    "\n",
    "x_axis, W = walk(N)\n",
    "plt.plot(x_axis, W[:-1])"
   ]
  },
  {
   "cell_type": "markdown",
   "metadata": {},
   "source": [
    "(1.1.2) Generate M path of a Brownian motion, prove numerically that E[$W_t$] = 0 and Var($W_t$) = t for different values of t."
   ]
  },
  {
   "cell_type": "code",
   "execution_count": 3,
   "metadata": {},
   "outputs": [],
   "source": [
    "N = 100\n",
    "M = 10000\n",
    "np.random.seed(54321)\n",
    "\n",
    "walks = []\n",
    "for i in range(M):\n",
    "    # generate simple random walk\n",
    "    _, cur_W = walk(N)\n",
    "    walks.append(cur_W[:-1])\n",
    "\n",
    "walks = np.array(walks)"
   ]
  },
  {
   "cell_type": "code",
   "execution_count": 4,
   "metadata": {},
   "outputs": [
    {
     "data": {
      "text/plain": [
       "array([ 0.     , -0.00288, -0.00332,  0.00092,  0.00146, -0.0007 ,\n",
       "        0.00318,  0.00126])"
      ]
     },
     "execution_count": 4,
     "metadata": {},
     "output_type": "execute_result"
    }
   ],
   "source": [
    "# value of E[Wt] at random indices\n",
    "np.mean(walks[:, [i for i in range(0, N, 13)]], axis=0)\n",
    "\n",
    "# we can see that the mean at random indices are close to 0."
   ]
  },
  {
   "cell_type": "code",
   "execution_count": 5,
   "metadata": {},
   "outputs": [
    {
     "data": {
      "text/plain": [
       "array([0.000000e+00, 2.916000e-07, 3.501504e-04, 1.142500e-04,\n",
       "       7.078400e-06, 5.602916e-04, 7.138496e-04, 1.759600e-04,\n",
       "       1.057424e-04, 9.961584e-04])"
      ]
     },
     "execution_count": 5,
     "metadata": {},
     "output_type": "execute_result"
    }
   ],
   "source": [
    "# absolute difference between var(Wt) and t at random indices\n",
    "\n",
    "np.abs(np.var(walks[:, [i for i in range(10)]], axis=0) \\\n",
    "    - np.arange(0, 1, 1/N)[:10])\n",
    "\n",
    "# again, we show that the variance at random indices i is very close to i itself."
   ]
  },
  {
   "cell_type": "markdown",
   "metadata": {},
   "source": [
    "(1.1.3) Compute numerically $[W, W]_t$ and observe that $[W, W]_t$ = t for some value of t."
   ]
  },
  {
   "cell_type": "code",
   "execution_count": 6,
   "metadata": {},
   "outputs": [
    {
     "name": "stdout",
     "output_type": "stream",
     "text": [
      "qvs_mean: [0.10000000000000003, 0.30000000000000004, 0.5, 0.7, 0.9000000000000004]\n",
      "qvs_std: [0.0, 0.0, 0.0, 0.0, 0.0]\n",
      "timestamp: [0.1 0.3 0.5 0.7 0.9]\n",
      "\n",
      "The result shows that the quadratic variation at time t will just be t, \n",
      "and the variance of the quadratic variation is very close to 0.\n"
     ]
    }
   ],
   "source": [
    "ts = np.arange(0.1, 1.1, 0.2) # choose t as some random value between 0 and 1\n",
    "qvs_mean, qvs_std = [], []\n",
    "for t in ts:\n",
    "    steps = int(t * N)\n",
    "    # limit the walks range for each t and calculate the mean/variance\n",
    "    qvs_mean.append(np.mean(np.sum(np.diff(walks[:, :steps+1])**2, axis=1)))\n",
    "    qvs_std.append(round(np.std(np.sum(np.diff(walks[:, :steps+1])**2, axis=1)), 5))\n",
    "\n",
    "print(f\"qvs_mean: {qvs_mean}\\nqvs_std: {qvs_std}\\ntimestamp: {ts}\\n\")\n",
    "print(\"The result shows that the quadratic variation at time t will just be t, \\nand the variance of the quadratic variation is very close to 0.\")"
   ]
  },
  {
   "cell_type": "markdown",
   "metadata": {},
   "source": [
    "#### (1.2) Stochastic integral"
   ]
  },
  {
   "cell_type": "markdown",
   "metadata": {},
   "source": [
    "In this section we are studying\n",
    "\n",
    "$$\n",
    "    I = \\int_0^1W_sdW_s\n",
    "$$\n",
    "\n",
    "We propose two schemes to approach numerically I on each path w $\\in \\Omega$:\n",
    "\n",
    "$$\n",
    "    I^-(w) = \\sum_{i = 0}^NW_{t_{i+1}}(w)(W_{t{i+1}}(w) - W_{t_{i}}(w))\n",
    "$$\n",
    "\n",
    "or \n",
    "\n",
    "$$\n",
    "    I_-(w) = \\sum_{i = 0}^NW_{t_{i}}(w)(W_{t_{i+1}}(w) - W_{t_{i}}(w))\n",
    "$$"
   ]
  },
  {
   "cell_type": "markdown",
   "metadata": {},
   "source": [
    "(1.2.1) Observe numerically that $I^-=\\frac{1}{2}W_1^2 + \\frac{1}{2}$ almost surely"
   ]
  },
  {
   "cell_type": "code",
   "execution_count": 7,
   "metadata": {},
   "outputs": [
    {
     "data": {
      "text/plain": [
       "(0.983876, 0.9888759999999999)"
      ]
     },
     "execution_count": 7,
     "metadata": {},
     "output_type": "execute_result"
    }
   ],
   "source": [
    "I_upper = np.mean(np.sum((np.diff(walks) * walks[:, 1:]), axis=1))\n",
    "theoretical_val = 0.5 * np.mean(walks[:, -1]**2) + 0.5\n",
    "\n",
    "I_upper, theoretical_val"
   ]
  },
  {
   "cell_type": "markdown",
   "metadata": {},
   "source": [
    "(1.2.2) Observe numerically that $I_-=\\frac{1}{2}W_1^2 - \\frac{1}{2}$ almost surely"
   ]
  },
  {
   "cell_type": "code",
   "execution_count": 8,
   "metadata": {},
   "outputs": [
    {
     "data": {
      "text/plain": [
       "(-0.006123999999999932, -0.011124000000000078)"
      ]
     },
     "execution_count": 8,
     "metadata": {},
     "output_type": "execute_result"
    }
   ],
   "source": [
    "I_lower = np.mean(np.sum((np.diff(walks) * walks[:, :-1]), axis=1))\n",
    "theoretical_val = 0.5 * np.mean(walks[:, -1]**2) - 0.5\n",
    "\n",
    "I_lower, theoretical_val"
   ]
  },
  {
   "cell_type": "markdown",
   "metadata": {},
   "source": [
    "(1.2.3) Which definition of I do we keep in view of Ito’s formula applied to $W^2_1$?"
   ]
  },
  {
   "cell_type": "markdown",
   "metadata": {},
   "source": [
    "- When applying Ito's formula to $W_1^2$, we aim to oderive the stoachastic integral of $W_tdW_t.$ The Ito's decomposition of $f(W_t)=W_t^2$ is $$df(W_t)=2W_tdW_t+dt.$$ Integrating both sides from 0 to 1 gives $$\\int_0^12W_tdW_t+\\int_0^1dt=W^2_1-W^2_0$$ Since $W_0=0,$ we have $$ \\int_0^1W_tdW_t=\\frac{1}{2}W^2_1-\\frac{1}{2}$$ which corresponds to $I_-(w)=\\sum_{i = 0}^NW_{t_{i}}(w)(W_{t_{i+1}}(w) - W_{t_{i}}(w))$ if we turn the integral into discrete summation. Hence $I_-$ is the choice we take."
   ]
  },
  {
   "cell_type": "markdown",
   "metadata": {},
   "source": [
    "(1.2.4) Compute numerically $E[I]$ and $E[I^2]$ for the choice of I made in question 3. and compare with the theoretical values."
   ]
  },
  {
   "cell_type": "code",
   "execution_count": 9,
   "metadata": {},
   "outputs": [
    {
     "name": "stdout",
     "output_type": "stream",
     "text": [
      "{'simulated expectation': -0.011124000000000078, 'true expectation': 0}\n",
      "{'simulated variance': 0.46426152, 'true variance': 0.5}\n",
      "We see that the expected expectation by simulation are very similar to\n",
      "the true expectation, while the expected variance by simulation is very close to the true variance.\n"
     ]
    }
   ],
   "source": [
    "# the theoretical expectation is 0 and variance is 1/2.\n",
    "simulated_expectation = 0.5 * np.mean(walks[:, -1]**2) - 0.5\n",
    "simulated_variance = 0.25 * np.std(walks[:, -1]**2)**2 + simulated_expectation**2\n",
    "\n",
    "print({\"simulated expectation\": simulated_expectation,\"true expectation\": 0})\n",
    "print({\"simulated variance\": simulated_variance, \"true variance\": 0.5})\n",
    "\n",
    "print(\"We see that the expected expectation by simulation are very similar to\\nthe true expectation, while the expected variance by simulation is very close to the true variance.\")"
   ]
  },
  {
   "cell_type": "markdown",
   "metadata": {},
   "source": [
    "#### (1.3) Black-Scholes model"
   ]
  },
  {
   "cell_type": "markdown",
   "metadata": {},
   "source": [
    "(1.3.1) Solution to SDE"
   ]
  },
  {
   "cell_type": "markdown",
   "metadata": {},
   "source": [
    "The Black-Scholes price is solution to the following SDE under the risk neutral probability measure:\n",
    "$$\n",
    "dS_t = S_trdt + S_t\\sigma dW_t, S_0 > 0, r \\ge 0, \\sigma > 0.\n",
    "$$\n",
    "We denote by S the solution to such equation. \n",
    "- By using the discretization of the time $t_i = \\frac{i}{N}$ with $0 \\leq i \\leq N$, we introduce the following Euler-Maruyama numerical scheme: $$\\tilde{S}_0=S_0 \\\\ \\tilde{S}_{t_{i+1}} − \\tilde{S}_{t_{i}} =  \\tilde{S}_{t_{i}} r(t_{i+1} − t_i) + \\tilde{S}_{t_{i}} \\sigma (W_{t_{i+1}} − W_{t_i}) $$ Compare $\\tilde{S}_{t_{i}}$ and $S_0e^{\\sigma W_t+(r−\\sigma^2/2)t}$ for some values of $t \\in [0, 1]$."
   ]
  },
  {
   "cell_type": "code",
   "execution_count": 10,
   "metadata": {},
   "outputs": [
    {
     "data": {
      "text/plain": [
       "(104.34022793610154, 103.0454533953517)"
      ]
     },
     "execution_count": 10,
     "metadata": {},
     "output_type": "execute_result"
    }
   ],
   "source": [
    "# setup\n",
    "S0 = 100\n",
    "r = 0.05\n",
    "sig = 0.1\n",
    "N = 100\n",
    "M = 10000\n",
    "cur_walk = walks[99]\n",
    "\n",
    "# generate S tilde\n",
    "S_tilde = [S0]\n",
    "for i in range(1, N):\n",
    "    cur_S_tilde = S_tilde[i-1] + S_tilde[i-1] * r * (1/N) + S_tilde[i-1] * sig * (cur_walk[i] - cur_walk[i-1])\n",
    "    S_tilde.append(cur_S_tilde)\n",
    "\n",
    "test_idx = 50 # between 0 and 100\n",
    "S_tilde[test_idx], S0 * np.exp(sig * cur_walk[test_idx] + (test_idx / N) * (r-sig**2)/2)"
   ]
  },
  {
   "cell_type": "markdown",
   "metadata": {},
   "source": [
    "- Compute numerically $E[S_1]$ by approaching the expectation with the Monte Carlo method, that is $E[S_1] \\approx \\frac{1}{M}\\sum_{j=1}^MS^{(j)}_1$ where $S^{(j)}_1$ is the $jth$ simulation generated by you algorithm of $S_t$."
   ]
  },
  {
   "cell_type": "code",
   "execution_count": 11,
   "metadata": {},
   "outputs": [
    {
     "data": {
      "text/plain": [
       "105.0990753436162"
      ]
     },
     "execution_count": 11,
     "metadata": {},
     "output_type": "execute_result"
    }
   ],
   "source": [
    "# Repeat previous part for M times\n",
    "Ss = []\n",
    "for j in range(M):\n",
    "    S_tilde = [S0]\n",
    "    cur_walk = walks[j]\n",
    "    for i in range(1, N):\n",
    "        cur_S_tilde = S_tilde[i-1] + S_tilde[i-1] * r * (1/N) + \\\n",
    "                      S_tilde[i-1] * sig * (cur_walk[i] - cur_walk[i-1])\n",
    "        S_tilde.append(cur_S_tilde)\n",
    "    \n",
    "    Ss.append(S_tilde[-1])\n",
    "\n",
    "monte_carlo_price = np.mean(Ss)\n",
    "monte_carlo_price\n"
   ]
  },
  {
   "cell_type": "markdown",
   "metadata": {},
   "source": [
    "(1.3.2) Black-Scholes price of European call and put option"
   ]
  },
  {
   "cell_type": "markdown",
   "metadata": {},
   "source": [
    "- Create a function CallBS (resp. PutBS) with input $r, \\sigma, S_0, T, K$ which returns the Black-Scholes price of a European call (resp. put) option."
   ]
  },
  {
   "cell_type": "code",
   "execution_count": 12,
   "metadata": {},
   "outputs": [],
   "source": [
    "def CallBS(S0:float=100, K:float=100, r:float=0.1, sigma:float=0.1, \n",
    "        T:float=1, call:bool=True) -> float:\n",
    "    '''\n",
    "    Implementation of black shore. Served as the true value of the option.\n",
    "    @param s0: spot price for the stock\n",
    "    @param k: strike price\n",
    "    @param r: risk free rate\n",
    "    @param sigma: volatility\n",
    "    @param T: time span\n",
    "    @param call: if a call or put option\n",
    "    \n",
    "    @return out: value of the option \n",
    "    '''\n",
    "    d1 = (np.log(S0/K) + (r + sigma**2/2)*T) / (sigma*np.sqrt(T))\n",
    "    d2 = d1 - sigma* np.sqrt(T)\n",
    "    \n",
    "    if call:\n",
    "        out = S0 * norm.cdf(d1) - K * np.exp(-r*T) * norm.cdf(d2)\n",
    "    else:\n",
    "        # this is the implementation for putBS(...)\n",
    "        out = K * np.exp(-r*T) * norm.cdf(-d2) - S0 * norm.cdf(-d1)\n",
    "    return out"
   ]
  },
  {
   "cell_type": "markdown",
   "metadata": {},
   "source": [
    "- Fix the initial price $S_0 = 40$ and $T = 1$. Observe that the price at time 0 of a call option is convex with respect to the strike."
   ]
  },
  {
   "cell_type": "code",
   "execution_count": 13,
   "metadata": {},
   "outputs": [
    {
     "name": "stdout",
     "output_type": "stream",
     "text": [
      "From the graph below we see that S0 is convex wrt the Strike\n"
     ]
    },
    {
     "data": {
      "image/png": "[encoded data removed]",
      "text/plain": [
       "<Figure size 640x480 with 1 Axes>"
      ]
     },
     "metadata": {},
     "output_type": "display_data"
    }
   ],
   "source": [
    "S0 = 40\n",
    "r = 0.05\n",
    "sigma = 0.3\n",
    "T = 1\n",
    "prices = []\n",
    "\n",
    "for k in range(S0, 141):\n",
    "    # iterate through value of K from 40 to 141\n",
    "    init_price_cur = CallBS(S0=S0, K=k, r=r, sigma=sigma, T=T)\n",
    "    prices.append(init_price_cur)\n",
    "\n",
    "print(\"From the graph below we see that S0 is convex wrt the Strike\")\n",
    "plt.plot(range(S0, 141), prices)\n",
    "plt.xlabel(\"Strike Price\")\n",
    "plt.ylabel(\"Option Value\")\n",
    "plt.show()"
   ]
  },
  {
   "cell_type": "markdown",
   "metadata": {},
   "source": [
    "- Verify numerically the call-put parity for different values of the inputs."
   ]
  },
  {
   "cell_type": "code",
   "execution_count": 14,
   "metadata": {},
   "outputs": [
    {
     "name": "stdout",
     "output_type": "stream",
     "text": [
      "We see that put-call parity holds because the left hand side of the equation\n",
      "is the same as the right hand side of the equation.\n"
     ]
    },
    {
     "data": {
      "text/plain": [
       "(0.23394200802222542, 0.23394200802222542)"
      ]
     },
     "execution_count": 14,
     "metadata": {},
     "output_type": "execute_result"
    }
   ],
   "source": [
    "S0 = 50\n",
    "r = 0.1\n",
    "sigma = 0.3\n",
    "T = 1\n",
    "K = 55\n",
    "\n",
    "# we want to verify that put-call parity holds\n",
    "callopt = CallBS(S0=S0, K=K, r=r, sigma=sigma, T=T, call=True)\n",
    "putopt = CallBS(S0=S0, K=K, r=r, sigma=sigma, T=T, call=False)\n",
    "\n",
    "LHS = callopt - putopt\n",
    "RHS = S0 - K*math.e**(-r)\n",
    "\n",
    "print(\"We see that put-call parity holds because the left hand side of the equation\\nis the same as the right hand side of the equation.\")\n",
    "LHS, RHS"
   ]
  },
  {
   "cell_type": "markdown",
   "metadata": {},
   "source": [
    "#### (1.4) Approximation formula"
   ]
  },
  {
   "cell_type": "markdown",
   "metadata": {},
   "source": [
    "We recall that the ATM call option is such that $K^{ATM} = e^{rT} S_0.$"
   ]
  },
  {
   "cell_type": "markdown",
   "metadata": {},
   "source": [
    "(1.4.1) We recall that for $\\sigma \\sqrt{T}$ small enough, $CallBS(r, \\sigma, S_0, T, K^{ATM}) \\approx 0.4S_0\\sigma \\sqrt{T}.$ Check this property numerically by fixing $T=1$ and $\\sigma$ varying in a small interval."
   ]
  },
  {
   "cell_type": "code",
   "execution_count": 15,
   "metadata": {},
   "outputs": [
    {
     "name": "stdout",
     "output_type": "stream",
     "text": [
      "We see that the relationship between the B-S price and estimated B-S price is linear\n",
      "with a slope of 1. This indicates that those two values are very similar at some sigma.\n"
     ]
    },
    {
     "data": {
      "image/png": "[encoded data removed]",
      "text/plain": [
       "<Figure size 640x480 with 1 Axes>"
      ]
     },
     "metadata": {},
     "output_type": "display_data"
    }
   ],
   "source": [
    "S0 = 50\n",
    "r = 0.1\n",
    "T = 1\n",
    "K = np.exp(r*T)*S0\n",
    "lhs = []\n",
    "rhs = []\n",
    "\n",
    "for sigma in range(10, 60):\n",
    "    sigma = sigma/100\n",
    "    lhs.append(CallBS(S0=S0, K=K, r=r, sigma=sigma, T=T, call=True))\n",
    "    rhs.append(0.4 * S0 * sigma * np.sqrt(T))\n",
    "\n",
    "print(\"We see that the relationship between the B-S price and estimated B-S price is linear\\nwith a slope of 1. This indicates that those two values are very similar at some sigma.\")\n",
    "plt.scatter(np.array(lhs), np.array(rhs))\n",
    "plt.plot(np.array(lhs), np.array(rhs))\n",
    "plt.xlabel(\"Black-Shole's Price\")\n",
    "plt.ylabel(\"Estimated Black-Shole's Price\")\n",
    "plt.show()"
   ]
  },
  {
   "cell_type": "markdown",
   "metadata": {},
   "source": [
    "(1.4.2) The Delta of a call option at the money is given by \n",
    "$$\n",
    "    \\Delta_0 = N(d_+),\n",
    "$$\n",
    "with $$d_+ = \\frac{\\sigma}{2}\\sqrt{T}.$$ We recall that for $\\sigma\\sqrt{T}$ small enough, $\\Delta \\approx 0.5 + 0.2\\sigma\\sqrt{T}.$ Check this property numerically by fixing $T = 1$ and $\\sigma$ varying in a small interval."
   ]
  },
  {
   "cell_type": "code",
   "execution_count": 16,
   "metadata": {},
   "outputs": [
    {
     "name": "stdout",
     "output_type": "stream",
     "text": [
      "We see that the relationship between the B-S delta and estimated delta is linear\n",
      "with a slope of 1. This indicates that those two values are very similar at some sigma.\n"
     ]
    },
    {
     "data": {
      "image/png": "[encoded data removed]",
      "text/plain": [
       "<Figure size 640x480 with 1 Axes>"
      ]
     },
     "metadata": {},
     "output_type": "display_data"
    }
   ],
   "source": [
    "S0 = 50\n",
    "r = 0.1\n",
    "T = 1\n",
    "K = np.exp(r*T)*S0\n",
    "lhs = []\n",
    "rhs = []\n",
    "\n",
    "for sigma in range(10, 60):\n",
    "    sigma = sigma/100\n",
    "    d1 = sigma * np.sqrt(T)/2\n",
    "    delta_cur = norm.cdf(d1)\n",
    "    lhs.append(delta_cur)\n",
    "    rhs.append(0.5 + 0.2 * sigma * np.sqrt(T))\n",
    "\n",
    "print(\"We see that the relationship between the B-S delta and estimated delta is linear\\nwith a slope of 1. This indicates that those two values are very similar at some sigma.\")\n",
    "plt.scatter(np.array(lhs), np.array(rhs))\n",
    "plt.plot(np.array(lhs), np.array(rhs))\n",
    "plt.xlabel(\"Delta\")\n",
    "plt.ylabel(\"Estimated Delta\")\n",
    "plt.show()"
   ]
  },
  {
   "cell_type": "markdown",
   "metadata": {},
   "source": [
    "(1.4.3) The Vega of a call option at time 0 at the money is given by $$V = S_0N'(d_+)\\sqrt{T}.$$ We recall that for $\\sigma\\sqrt{T}$ small enough, $V \\approx 0.4S_0\\sqrt{T}.$ Check this property numerically by fixing T = 1 and σ varying in a small interval."
   ]
  },
  {
   "cell_type": "code",
   "execution_count": 17,
   "metadata": {},
   "outputs": [
    {
     "name": "stdout",
     "output_type": "stream",
     "text": [
      "We see that the values of the B-S vega and estimated vega are very\n",
      "similar at some sigma. While estimated vega does not depend on sigma, the\n",
      "B-S vega always have some values close to the estimated vega, which is 20 in our setting.\n"
     ]
    },
    {
     "data": {
      "image/png": "[encoded data removed]",
      "text/plain": [
       "<Figure size 640x480 with 1 Axes>"
      ]
     },
     "metadata": {},
     "output_type": "display_data"
    }
   ],
   "source": [
    "S0 = 50\n",
    "r = 0.1\n",
    "T = 1\n",
    "K = np.exp(r*T)*S0\n",
    "lhs = []\n",
    "rhs = []\n",
    "\n",
    "for sigma in range(10, 60):\n",
    "    sigma = sigma/100\n",
    "    d1 = sigma * np.sqrt(T)/2\n",
    "    vega_cur = S0 * norm.pdf(d1) * np.sqrt(T)\n",
    "    lhs.append(vega_cur)\n",
    "    rhs.append(0.4 * S0 * np.sqrt(T))\n",
    "\n",
    "print(\"We see that the values of the B-S vega and estimated vega are very\\nsimilar at some sigma. While estimated vega does not depend on sigma, the\\nB-S vega always have some values close to the estimated vega, which is 20 in our setting.\")\n",
    "plt.scatter(np.array(lhs), np.array(rhs))\n",
    "plt.plot(np.array(lhs), np.array(rhs))\n",
    "plt.xlabel(\"Vega\")\n",
    "plt.ylabel(\"Estimated Vega\")\n",
    "plt.show()"
   ]
  },
  {
   "cell_type": "markdown",
   "metadata": {},
   "source": [
    "## (2) Black-Scholes v.s. Bachelier"
   ]
  },
  {
   "cell_type": "markdown",
   "metadata": {},
   "source": [
    "We assume that r = 0. In the Bachelier model, we suppose that the price of this asset is\n",
    "$$\n",
    "S_t^{(B)} = S_0 + \\sigma^{(B)}W_t, \\ S_0>0, \\  \\sigma^{(B)} > 0\n",
    "$$\n",
    "The Bachelier price of a call option is given by\n",
    "$$\n",
    "CallBach(0, \\sigma^{(B)}, S_0, T, K) = E[(S_T^{(B)}-K)^+]=(S_0-K)N(\\frac{S_0-K}{\\sigma^{(B)}\\sqrt{T}})+ \\sigma^{(B)}\\phi(\\frac{S_0-K}{\\sigma^{(B)}\\sqrt{T}}),\n",
    "$$\n",
    "where $N$ is the c.d.f of the standard normal law and $\\phi(x)=\\frac{e^{-x^2}}{\\sqrt{2\\pi}}.$"
   ]
  },
  {
   "cell_type": "markdown",
   "metadata": {},
   "source": [
    "#### (2.1.1) Create a function CallBach with input $\\sigma^{(B)}, S_0, T, K$ which returns the Bachelier price of a European call option."
   ]
  },
  {
   "cell_type": "code",
   "execution_count": 18,
   "metadata": {},
   "outputs": [],
   "source": [
    "def CallBach(sig:float=0.3, s0:float=100, t:float=1, k:float=100):\n",
    "    '''\n",
    "    Implementation of bachelier model. Return the value of the option.\n",
    "    @param sig: volatility\n",
    "    @param s0: spot price for the stock\n",
    "    @param t: time span\n",
    "    @param k: strike price \n",
    "    \n",
    "    @return out: value of the option \n",
    "    '''\n",
    "    # compute d as per the Bachelier model\n",
    "    d = (s0 - k) / (sig * np.sqrt(t))\n",
    "\n",
    "    # calculate cdf and pdf of d\n",
    "    N_d = norm.cdf(d)\n",
    "    phi_d = norm.pdf(d)\n",
    "\n",
    "    out = (s0 - k) * N_d + sig * np.sqrt(T) * phi_d\n",
    "\n",
    "    return out"
   ]
  },
  {
   "cell_type": "code",
   "execution_count": 19,
   "metadata": {},
   "outputs": [
    {
     "data": {
      "text/plain": [
       "0.1196826841204298"
      ]
     },
     "execution_count": 19,
     "metadata": {},
     "output_type": "execute_result"
    }
   ],
   "source": [
    "CallBach()"
   ]
  },
  {
   "cell_type": "markdown",
   "metadata": {},
   "source": [
    "#### (2.1.2) Verify numerically that at the money (that is S0 = K) we have $$0\\leq Callbach(0, \\sigma^{(B)}, S_0, T, S_0) - CallBS(0, \\sigma^{(BS)}, S_0, T, S_0)\\\\ \\leq \\frac{S_0}{24\\sqrt{2\\pi}}|\\sigma^{(BS)}|^3T^{3/2},$$ where $\\sigma^{(B)}=S_0\\sigma^{(BS)}$"
   ]
  },
  {
   "cell_type": "code",
   "execution_count": 20,
   "metadata": {},
   "outputs": [
    {
     "name": "stdout",
     "output_type": "stream",
     "text": [
      "We see that the value of the Bach-BS difference is always between the upper and the lower bound,\n",
      "which shows that the relationship holds.\n"
     ]
    },
    {
     "data": {
      "image/png": "[encoded data removed]",
      "text/plain": [
       "<Figure size 640x480 with 1 Axes>"
      ]
     },
     "metadata": {},
     "output_type": "display_data"
    }
   ],
   "source": [
    "lhss = []\n",
    "mhss = []\n",
    "rhss = []\n",
    "for sig_bs in range(1, 100):\n",
    "    sig_bs = sig_bs / 100\n",
    "    s0 = 100\n",
    "    sig_ba = s0 * sig_bs\n",
    "    t = 1\n",
    "\n",
    "    lhss.append(0)\n",
    "    mhss.append(CallBach(sig_ba, s0, t, s0) - CallBS(s0, s0, 0, sig_bs, t))\n",
    "    rhss.append((s0/(24*np.sqrt(2*math.pi))) * (abs(sig_bs)**3) * t**(3/2))\n",
    "\n",
    "print(\"We see that the value of the Bach-BS difference is always between the upper and the lower bound,\\nwhich shows that the relationship holds.\")\n",
    "plt.plot([x/100 for x in range(1, 100)], lhss, label=\"lower bound\")\n",
    "plt.plot([x/100 for x in range(1, 100)], mhss, label=\"bach-bs difference\")\n",
    "plt.plot([x/100 for x in range(1, 100)], rhss, label=\"upper bound\")\n",
    "plt.legend()\n",
    "plt.show()"
   ]
  },
  {
   "cell_type": "markdown",
   "metadata": {},
   "source": [
    "## (3) Pricing Asian option in the Black-Scholes model"
   ]
  },
  {
   "cell_type": "markdown",
   "metadata": {},
   "source": [
    "This part is based on \n",
    "- Kemna, A. G., & Vorst, A. C. (1990). A pricing method for options based on average\n",
    "asset values. Journal of Banking & Finance, 14(1), 113-129.\n",
    "\n",
    "The goal is to find the price of an Asian option, with payoff at time T is given by $(A_T-K)^+$ where $A_T=\\frac{1}{T}\\int_0^TS_tdt.$ This is an option on the mean of the asset S. \n",
    "\n",
    "This part follows Section 3: special characteristics of the AV-options and Section 4. Numerical Computations in the article of Nemna and Vorst. \n",
    "\n",
    "To do so, we use Monte-Carlo methods and we approach the integral as follow\n",
    "$$\n",
    "(Arithmetic mean) A_T \\approx A_T^a := \\frac{1}{n+1}\\sum_{i=0}^nS_{t_i}, t_i = i\\frac{T}{n}, \\\\\n",
    "(Geometric mean) A_T \\approx A_T^g := (\\Pi_{i=0}^nS_{t_i})^{\\frac{1}{n+1}}, t_i=i\\frac{T}{n}.\n",
    "$$\n",
    "The price at time 0 of the Average-Value option is\n",
    "$$\n",
    "CallAsian(r, \\sigma, S_0, T, K) = e^{-rT}E[(A_T-K)^+],\n",
    "$$\n",
    "depending on the approximation of A chosen."
   ]
  },
  {
   "cell_type": "markdown",
   "metadata": {},
   "source": [
    "#### (3.1) Compute the price of the Asian option CallAsian by approaching the expectation $E[(A_T − K)^+]$ with Monte Carlo method for different values of the parameters for both the arithmetical mean and the geometric mean"
   ]
  },
  {
   "cell_type": "code",
   "execution_count": 21,
   "metadata": {},
   "outputs": [],
   "source": [
    "N = 100\n",
    "M = 10000\n",
    "\n",
    "def GBM(s0, r, sigma, T):\n",
    "    \"\"\"\n",
    "    Simuilation of stock price\n",
    "    @param s0: spot price for the stock\n",
    "    @param r: rate\n",
    "    @param sigma: volatility\n",
    "    @param T: time span\n",
    "    \n",
    "    @return out: stock prices \n",
    "    \"\"\"\n",
    "    np.random.seed(54321)\n",
    "    \n",
    "    out = []\n",
    "    dt = T/N\n",
    "    for _ in range(M):\n",
    "        cur_prices = [s0]\n",
    "        W = np.random.standard_normal(size = (N-1))\n",
    "        for n in range(1, N):\n",
    "            next_price = cur_prices[n-1] * np.exp((r-0.5*(sigma**2)\\\n",
    "                            )*dt + sigma*np.sqrt(dt)*(W[n-1]))\n",
    "            cur_prices.append(next_price)\n",
    "        out.append(cur_prices)\n",
    "    \n",
    "    return np.array(out)"
   ]
  },
  {
   "cell_type": "code",
   "execution_count": 22,
   "metadata": {},
   "outputs": [
    {
     "name": "stdout",
     "output_type": "stream",
     "text": [
      "The table shows the price of Asian option with different parameters\n",
      "for arithmetical and geometric mean. It also shows by how much they differ\n",
      "in proportion with respect to the geometric mean.\n"
     ]
    },
    {
     "data": {
      "text/html": [
       "<div>\n",
       "<style scoped>\n",
       "    .dataframe tbody tr th:only-of-type {\n",
       "        vertical-align: middle;\n",
       "    }\n",
       "\n",
       "    .dataframe tbody tr th {\n",
       "        vertical-align: top;\n",
       "    }\n",
       "\n",
       "    .dataframe thead th {\n",
       "        text-align: right;\n",
       "    }\n",
       "</style>\n",
       "<table border=\"1\" class=\"dataframe\">\n",
       "  <thead>\n",
       "    <tr style=\"text-align: right;\">\n",
       "      <th></th>\n",
       "      <th>S0</th>\n",
       "      <th>Rate</th>\n",
       "      <th>Sigma</th>\n",
       "      <th>Arith_Mean</th>\n",
       "      <th>Geom_Mean</th>\n",
       "      <th>Diff_Proportion</th>\n",
       "    </tr>\n",
       "  </thead>\n",
       "  <tbody>\n",
       "    <tr>\n",
       "      <th>0</th>\n",
       "      <td>90</td>\n",
       "      <td>0.03</td>\n",
       "      <td>0.2</td>\n",
       "      <td>0.264600</td>\n",
       "      <td>0.220601</td>\n",
       "      <td>19.945%</td>\n",
       "    </tr>\n",
       "    <tr>\n",
       "      <th>1</th>\n",
       "      <td>90</td>\n",
       "      <td>0.03</td>\n",
       "      <td>0.3</td>\n",
       "      <td>1.279523</td>\n",
       "      <td>1.092371</td>\n",
       "      <td>17.133%</td>\n",
       "    </tr>\n",
       "    <tr>\n",
       "      <th>2</th>\n",
       "      <td>90</td>\n",
       "      <td>0.05</td>\n",
       "      <td>0.2</td>\n",
       "      <td>0.329383</td>\n",
       "      <td>0.275125</td>\n",
       "      <td>19.722%</td>\n",
       "    </tr>\n",
       "    <tr>\n",
       "      <th>3</th>\n",
       "      <td>90</td>\n",
       "      <td>0.05</td>\n",
       "      <td>0.3</td>\n",
       "      <td>1.446532</td>\n",
       "      <td>1.234943</td>\n",
       "      <td>17.133%</td>\n",
       "    </tr>\n",
       "    <tr>\n",
       "      <th>4</th>\n",
       "      <td>100</td>\n",
       "      <td>0.03</td>\n",
       "      <td>0.2</td>\n",
       "      <td>1.770048</td>\n",
       "      <td>1.639631</td>\n",
       "      <td>7.954%</td>\n",
       "    </tr>\n",
       "    <tr>\n",
       "      <th>5</th>\n",
       "      <td>100</td>\n",
       "      <td>0.03</td>\n",
       "      <td>0.3</td>\n",
       "      <td>3.853558</td>\n",
       "      <td>3.523158</td>\n",
       "      <td>9.378%</td>\n",
       "    </tr>\n",
       "    <tr>\n",
       "      <th>6</th>\n",
       "      <td>100</td>\n",
       "      <td>0.05</td>\n",
       "      <td>0.2</td>\n",
       "      <td>2.060647</td>\n",
       "      <td>1.908820</td>\n",
       "      <td>7.954%</td>\n",
       "    </tr>\n",
       "    <tr>\n",
       "      <th>7</th>\n",
       "      <td>100</td>\n",
       "      <td>0.05</td>\n",
       "      <td>0.3</td>\n",
       "      <td>4.239824</td>\n",
       "      <td>3.874205</td>\n",
       "      <td>9.437%</td>\n",
       "    </tr>\n",
       "  </tbody>\n",
       "</table>\n",
       "</div>"
      ],
      "text/plain": [
       "    S0  Rate  Sigma  Arith_Mean  Geom_Mean Diff_Proportion\n",
       "0   90  0.03    0.2    0.264600   0.220601         19.945%\n",
       "1   90  0.03    0.3    1.279523   1.092371         17.133%\n",
       "2   90  0.05    0.2    0.329383   0.275125         19.722%\n",
       "3   90  0.05    0.3    1.446532   1.234943         17.133%\n",
       "4  100  0.03    0.2    1.770048   1.639631          7.954%\n",
       "5  100  0.03    0.3    3.853558   3.523158          9.378%\n",
       "6  100  0.05    0.2    2.060647   1.908820          7.954%\n",
       "7  100  0.05    0.3    4.239824   3.874205          9.437%"
      ]
     },
     "execution_count": 22,
     "metadata": {},
     "output_type": "execute_result"
    }
   ],
   "source": [
    "T = 1\n",
    "K = 110\n",
    "s0s = []\n",
    "rs = []\n",
    "sigmas = []\n",
    "gbm_lists = []\n",
    "arith_means = []\n",
    "geom_means = []\n",
    "\n",
    "for s0 in [90, 100]:\n",
    "    for r in [0.03, 0.05]:\n",
    "        for sigma in [0.2, 0.3]:\n",
    "            s0s.append(s0)\n",
    "            rs.append(r)\n",
    "            sigmas.append(sigma)\n",
    "\n",
    "            gbm_prices = GBM(s0, r, sigma, T)\n",
    "            gbm_lists.append(gbm_prices)\n",
    "\n",
    "            # arithmetical mean\n",
    "            arith_mean = np.mean(np.maximum(np.mean(gbm_prices,axis=1) - K, 0))\n",
    "            arith_means.append(arith_mean)\n",
    "\n",
    "            # geometric mean\n",
    "            geom_mean = np.mean(np.maximum(np.prod(gbm_prices,axis=1)**(1/gbm_prices.shape[1]) \\\n",
    "                                           - K, 0))\n",
    "            geom_means.append(geom_mean)\n",
    "\n",
    "            # cur_str = f\"s0: {s0}, r: {r}, sigma: {sigma} | arithmetic mean: {arith_mean} | geometric mean: {geom_mean}\"\n",
    "            # print(cur_str)\n",
    "\n",
    "d = {\"S0\": s0s, \"Rate\": rs, \"Sigma\": sigmas, \"Arith_Mean\": arith_means, \"Geom_Mean\": geom_means}\n",
    "table = pd.DataFrame(data=d)\n",
    "out_table = table.copy()\n",
    "out_table[\"Diff_Proportion\"] = (round(100*np.abs(out_table.Arith_Mean-out_table.Geom_Mean)\\\n",
    "                                      /out_table.Geom_Mean, 3)).astype(str)\n",
    "out_table.Diff_Proportion = out_table.Diff_Proportion.apply(lambda x: x+\"%\")\n",
    "print(\"The table shows the price of Asian option with different parameters\\nfor arithmetical and geometric mean. It also shows by how much they differ\\nin proportion with respect to the geometric mean.\")\n",
    "out_table\n"
   ]
  },
  {
   "cell_type": "markdown",
   "metadata": {},
   "source": [
    "#### (3.2) Provide the confidence interval at 95% in each case and observe that the interval is reduced when we choose the geometric mean"
   ]
  },
  {
   "cell_type": "code",
   "execution_count": 23,
   "metadata": {},
   "outputs": [
    {
     "name": "stdout",
     "output_type": "stream",
     "text": [
      "We observe that geometric interval is reduced if we compare the length of each interval,\n",
      "and each value is within its corresponding confidence interval,\n",
      "which passes the sanity check that the boundary is reasonable.\n"
     ]
    },
    {
     "data": {
      "text/html": [
       "<div>\n",
       "<style scoped>\n",
       "    .dataframe tbody tr th:only-of-type {\n",
       "        vertical-align: middle;\n",
       "    }\n",
       "\n",
       "    .dataframe tbody tr th {\n",
       "        vertical-align: top;\n",
       "    }\n",
       "\n",
       "    .dataframe thead th {\n",
       "        text-align: right;\n",
       "    }\n",
       "</style>\n",
       "<table border=\"1\" class=\"dataframe\">\n",
       "  <thead>\n",
       "    <tr style=\"text-align: right;\">\n",
       "      <th></th>\n",
       "      <th>S0</th>\n",
       "      <th>Rate</th>\n",
       "      <th>Sigma</th>\n",
       "      <th>Arith_Conf</th>\n",
       "      <th>Arith_Conf_Len</th>\n",
       "      <th>Arith_Mean</th>\n",
       "      <th>Geom_Conf</th>\n",
       "      <th>Geom_Conf_Len</th>\n",
       "      <th>Geom_Mean</th>\n",
       "    </tr>\n",
       "  </thead>\n",
       "  <tbody>\n",
       "    <tr>\n",
       "      <th>0</th>\n",
       "      <td>90</td>\n",
       "      <td>0.03</td>\n",
       "      <td>0.2</td>\n",
       "      <td>[0.233, 0.297]</td>\n",
       "      <td>0.064</td>\n",
       "      <td>0.264600</td>\n",
       "      <td>[0.192, 0.249]</td>\n",
       "      <td>0.057</td>\n",
       "      <td>0.220601</td>\n",
       "    </tr>\n",
       "    <tr>\n",
       "      <th>1</th>\n",
       "      <td>90</td>\n",
       "      <td>0.03</td>\n",
       "      <td>0.3</td>\n",
       "      <td>[1.185, 1.374]</td>\n",
       "      <td>0.188</td>\n",
       "      <td>1.279523</td>\n",
       "      <td>[1.009, 1.176]</td>\n",
       "      <td>0.167</td>\n",
       "      <td>1.092371</td>\n",
       "    </tr>\n",
       "    <tr>\n",
       "      <th>2</th>\n",
       "      <td>90</td>\n",
       "      <td>0.05</td>\n",
       "      <td>0.2</td>\n",
       "      <td>[0.293, 0.366]</td>\n",
       "      <td>0.072</td>\n",
       "      <td>0.329383</td>\n",
       "      <td>[0.243, 0.307]</td>\n",
       "      <td>0.064</td>\n",
       "      <td>0.275125</td>\n",
       "    </tr>\n",
       "    <tr>\n",
       "      <th>3</th>\n",
       "      <td>90</td>\n",
       "      <td>0.05</td>\n",
       "      <td>0.3</td>\n",
       "      <td>[1.346, 1.547]</td>\n",
       "      <td>0.201</td>\n",
       "      <td>1.446532</td>\n",
       "      <td>[1.146, 1.324]</td>\n",
       "      <td>0.178</td>\n",
       "      <td>1.234943</td>\n",
       "    </tr>\n",
       "    <tr>\n",
       "      <th>4</th>\n",
       "      <td>100</td>\n",
       "      <td>0.03</td>\n",
       "      <td>0.2</td>\n",
       "      <td>[1.68, 1.86]</td>\n",
       "      <td>0.180</td>\n",
       "      <td>1.770048</td>\n",
       "      <td>[1.555, 1.724]</td>\n",
       "      <td>0.169</td>\n",
       "      <td>1.639631</td>\n",
       "    </tr>\n",
       "    <tr>\n",
       "      <th>5</th>\n",
       "      <td>100</td>\n",
       "      <td>0.03</td>\n",
       "      <td>0.3</td>\n",
       "      <td>[3.683, 4.025]</td>\n",
       "      <td>0.342</td>\n",
       "      <td>3.853558</td>\n",
       "      <td>[3.365, 3.681]</td>\n",
       "      <td>0.317</td>\n",
       "      <td>3.523158</td>\n",
       "    </tr>\n",
       "    <tr>\n",
       "      <th>6</th>\n",
       "      <td>100</td>\n",
       "      <td>0.05</td>\n",
       "      <td>0.2</td>\n",
       "      <td>[1.963, 2.158]</td>\n",
       "      <td>0.196</td>\n",
       "      <td>2.060647</td>\n",
       "      <td>[1.817, 2.001]</td>\n",
       "      <td>0.184</td>\n",
       "      <td>1.908820</td>\n",
       "    </tr>\n",
       "    <tr>\n",
       "      <th>7</th>\n",
       "      <td>100</td>\n",
       "      <td>0.05</td>\n",
       "      <td>0.3</td>\n",
       "      <td>[4.06, 4.42]</td>\n",
       "      <td>0.360</td>\n",
       "      <td>4.239824</td>\n",
       "      <td>[3.708, 4.041]</td>\n",
       "      <td>0.333</td>\n",
       "      <td>3.874205</td>\n",
       "    </tr>\n",
       "  </tbody>\n",
       "</table>\n",
       "</div>"
      ],
      "text/plain": [
       "    S0  Rate  Sigma      Arith_Conf  Arith_Conf_Len  Arith_Mean  \\\n",
       "0   90  0.03    0.2  [0.233, 0.297]           0.064    0.264600   \n",
       "1   90  0.03    0.3  [1.185, 1.374]           0.188    1.279523   \n",
       "2   90  0.05    0.2  [0.293, 0.366]           0.072    0.329383   \n",
       "3   90  0.05    0.3  [1.346, 1.547]           0.201    1.446532   \n",
       "4  100  0.03    0.2    [1.68, 1.86]           0.180    1.770048   \n",
       "5  100  0.03    0.3  [3.683, 4.025]           0.342    3.853558   \n",
       "6  100  0.05    0.2  [1.963, 2.158]           0.196    2.060647   \n",
       "7  100  0.05    0.3    [4.06, 4.42]           0.360    4.239824   \n",
       "\n",
       "        Geom_Conf  Geom_Conf_Len  Geom_Mean  \n",
       "0  [0.192, 0.249]          0.057   0.220601  \n",
       "1  [1.009, 1.176]          0.167   1.092371  \n",
       "2  [0.243, 0.307]          0.064   0.275125  \n",
       "3  [1.146, 1.324]          0.178   1.234943  \n",
       "4  [1.555, 1.724]          0.169   1.639631  \n",
       "5  [3.365, 3.681]          0.317   3.523158  \n",
       "6  [1.817, 2.001]          0.184   1.908820  \n",
       "7  [3.708, 4.041]          0.333   3.874205  "
      ]
     },
     "execution_count": 23,
     "metadata": {},
     "output_type": "execute_result"
    }
   ],
   "source": [
    "T = 1\n",
    "K = 110\n",
    "i = 0\n",
    "arith_confs = []\n",
    "arith_lengths = []\n",
    "geom_confs = []\n",
    "geom_lengths = []\n",
    "\n",
    "for s0 in [90, 100]:\n",
    "    for r in [0.03, 0.05]:\n",
    "        for sigma in [0.2, 0.3]:\n",
    "                cur_gbm = gbm_lists[i]\n",
    "\n",
    "                # arithematic confidence interval\n",
    "                arith_lists = np.maximum(np.mean(cur_gbm,axis=1) - K, 0)\n",
    "                arith_mean = np.mean(arith_lists)\n",
    "                arith_merr = 1.96 * np.std(arith_lists) / np.sqrt(len(arith_lists))\n",
    "                arith_conf = [round(arith_mean-arith_merr, 3), round(arith_mean+arith_merr, 3)]\n",
    "                arith_confs.append(arith_conf)\n",
    "                arith_lengths.append(round(arith_merr*2, 3))\n",
    "\n",
    "                # geometric confidence interval\n",
    "                geom_lists = np.maximum(np.prod(cur_gbm,axis=1)**(\\\n",
    "                        1/cur_gbm.shape[1]) - K, 0)\n",
    "                geom_mean = np.mean(geom_lists)\n",
    "                geom_merr = 1.96 * np.std(geom_lists) / np.sqrt(len(geom_lists))\n",
    "                geom_conf = [round(geom_mean-geom_merr, 3), round(geom_mean+geom_merr, 3)]\n",
    "                geom_confs.append(geom_conf)\n",
    "                geom_lengths.append(round(geom_merr*2, 3))\n",
    "\n",
    "                # cur_str = f\"s0: {s0}, r: {r}, sigma: {sigma} | arith_conf: {arith_confs} | geom_conf: {geom_confs}\"\n",
    "                # print(cur_str)\n",
    "\n",
    "                i += 1\n",
    "\n",
    "out_table = table.copy()\n",
    "out_table[\"Arith_Conf\"] = arith_confs\n",
    "out_table[\"Geom_Conf\"] = geom_confs\n",
    "out_table[\"Arith_Conf_Len\"] = arith_lengths\n",
    "out_table[\"Geom_Conf_Len\"] = geom_lengths\n",
    "cols = [\"S0\", \"Rate\", \"Sigma\", \"Arith_Conf\", \"Arith_Conf_Len\", \"Arith_Mean\", \"Geom_Conf\", \"Geom_Conf_Len\", \"Geom_Mean\"]\n",
    "out_table = out_table[cols]\n",
    "print(\"We observe that geometric interval is reduced if we compare the length of each interval,\\nand each value is within its corresponding confidence interval,\\nwhich passes the sanity check that the boundary is reasonable.\")\n",
    "out_table"
   ]
  },
  {
   "cell_type": "markdown",
   "metadata": {},
   "source": [
    "#### (3.3) Compare the results with the price at time 0 of a European call option CallBS"
   ]
  },
  {
   "cell_type": "code",
   "execution_count": 24,
   "metadata": {},
   "outputs": [
    {
     "name": "stdout",
     "output_type": "stream",
     "text": [
      "We observe that European call option price under BS-model is much higher\n",
      "than Asian call option pricem, under different parameter settings.\n",
      "This is partially because European options priced under the Black-Scholes\n",
      "model depend only on the terminal stock price and not on the path or the\n",
      "average price during the life of the option\n"
     ]
    },
    {
     "data": {
      "text/html": [
       "<div>\n",
       "<style scoped>\n",
       "    .dataframe tbody tr th:only-of-type {\n",
       "        vertical-align: middle;\n",
       "    }\n",
       "\n",
       "    .dataframe tbody tr th {\n",
       "        vertical-align: top;\n",
       "    }\n",
       "\n",
       "    .dataframe thead th {\n",
       "        text-align: right;\n",
       "    }\n",
       "</style>\n",
       "<table border=\"1\" class=\"dataframe\">\n",
       "  <thead>\n",
       "    <tr style=\"text-align: right;\">\n",
       "      <th></th>\n",
       "      <th>S0</th>\n",
       "      <th>Rate</th>\n",
       "      <th>Sigma</th>\n",
       "      <th>Arith_Mean</th>\n",
       "      <th>Geom_Mean</th>\n",
       "      <th>BS_Price</th>\n",
       "    </tr>\n",
       "  </thead>\n",
       "  <tbody>\n",
       "    <tr>\n",
       "      <th>0</th>\n",
       "      <td>90</td>\n",
       "      <td>0.03</td>\n",
       "      <td>0.2</td>\n",
       "      <td>0.264600</td>\n",
       "      <td>0.220601</td>\n",
       "      <td>2.136420</td>\n",
       "    </tr>\n",
       "    <tr>\n",
       "      <th>1</th>\n",
       "      <td>90</td>\n",
       "      <td>0.03</td>\n",
       "      <td>0.3</td>\n",
       "      <td>1.279523</td>\n",
       "      <td>1.092371</td>\n",
       "      <td>5.184438</td>\n",
       "    </tr>\n",
       "    <tr>\n",
       "      <th>2</th>\n",
       "      <td>90</td>\n",
       "      <td>0.05</td>\n",
       "      <td>0.2</td>\n",
       "      <td>0.329383</td>\n",
       "      <td>0.275125</td>\n",
       "      <td>2.523716</td>\n",
       "    </tr>\n",
       "    <tr>\n",
       "      <th>3</th>\n",
       "      <td>90</td>\n",
       "      <td>0.05</td>\n",
       "      <td>0.3</td>\n",
       "      <td>1.446532</td>\n",
       "      <td>1.234943</td>\n",
       "      <td>5.705478</td>\n",
       "    </tr>\n",
       "    <tr>\n",
       "      <th>4</th>\n",
       "      <td>100</td>\n",
       "      <td>0.03</td>\n",
       "      <td>0.2</td>\n",
       "      <td>1.770048</td>\n",
       "      <td>1.639631</td>\n",
       "      <td>5.293398</td>\n",
       "    </tr>\n",
       "    <tr>\n",
       "      <th>5</th>\n",
       "      <td>100</td>\n",
       "      <td>0.03</td>\n",
       "      <td>0.3</td>\n",
       "      <td>3.853558</td>\n",
       "      <td>3.523158</td>\n",
       "      <td>9.240027</td>\n",
       "    </tr>\n",
       "    <tr>\n",
       "      <th>6</th>\n",
       "      <td>100</td>\n",
       "      <td>0.05</td>\n",
       "      <td>0.2</td>\n",
       "      <td>2.060647</td>\n",
       "      <td>1.908820</td>\n",
       "      <td>6.040088</td>\n",
       "    </tr>\n",
       "    <tr>\n",
       "      <th>7</th>\n",
       "      <td>100</td>\n",
       "      <td>0.05</td>\n",
       "      <td>0.3</td>\n",
       "      <td>4.239824</td>\n",
       "      <td>3.874205</td>\n",
       "      <td>10.020078</td>\n",
       "    </tr>\n",
       "  </tbody>\n",
       "</table>\n",
       "</div>"
      ],
      "text/plain": [
       "    S0  Rate  Sigma  Arith_Mean  Geom_Mean   BS_Price\n",
       "0   90  0.03    0.2    0.264600   0.220601   2.136420\n",
       "1   90  0.03    0.3    1.279523   1.092371   5.184438\n",
       "2   90  0.05    0.2    0.329383   0.275125   2.523716\n",
       "3   90  0.05    0.3    1.446532   1.234943   5.705478\n",
       "4  100  0.03    0.2    1.770048   1.639631   5.293398\n",
       "5  100  0.03    0.3    3.853558   3.523158   9.240027\n",
       "6  100  0.05    0.2    2.060647   1.908820   6.040088\n",
       "7  100  0.05    0.3    4.239824   3.874205  10.020078"
      ]
     },
     "execution_count": 24,
     "metadata": {},
     "output_type": "execute_result"
    }
   ],
   "source": [
    "T = 1\n",
    "K = 110\n",
    "i = 0\n",
    "bs_prices = []\n",
    "\n",
    "for s0 in [90, 100]:\n",
    "    for r in [0.03, 0.05]:\n",
    "        for sigma in [0.2, 0.3]:\n",
    "\n",
    "            arith_mean = arith_means[i]\n",
    "            geom_mean = geom_means[i]\n",
    "\n",
    "            # european CallBS\n",
    "            bs_price = CallBS(S0=s0, K=K, r=r, sigma=sigma, T=T)\n",
    "            bs_prices.append(bs_price)\n",
    "            \n",
    "            # cur_str = f\"s0: {s0}, r: {r}, sigma: {sigma} | arithmetic mean: {round(arith_mean, 3)} | geometric mean: {round(geom_mean, 3)} | bs price: {round(bs_price, 3)}\"\n",
    "            # print(cur_str)\n",
    "            i += 1\n",
    "\n",
    "out_table = table.copy()\n",
    "out_table[\"BS_Price\"] = bs_prices\n",
    "print(\"We observe that European call option price under BS-model is much higher\\nthan Asian call option pricem, under different parameter settings.\\nThis is partially because European options priced under the Black-Scholes\\nmodel depend only on the terminal stock price and not on the path or the\\naverage price during the life of the option\")\n",
    "out_table"
   ]
  },
  {
   "cell_type": "markdown",
   "metadata": {},
   "source": [
    "## (4) Pricing zero-coupon bond in the Vasicek model"
   ]
  },
  {
   "cell_type": "markdown",
   "metadata": {},
   "source": [
    "The Vasicek Model is used to model interest rates and it has the following SDE representation\n",
    "$$\n",
    "dr_t = a(b-r_t)dt + \\sigma dW_t, \\ r_0\\in \\mathbb{R}\n",
    "$$\n",
    "A discretization of this process on [0, T ] is given by\n",
    "$$\n",
    "r_{t_{i+1}} = r_{t_{i}} + a(b-r_{t_{i}})(t_{t_{i+1}}-t_{t_{i}}) + \\sigma(W_{t_{i+1}} - W_{t_{i}}), \\ r_0\\in \\mathbb{R}\n",
    "$$"
   ]
  },
  {
   "cell_type": "markdown",
   "metadata": {},
   "source": [
    "#### (4.1) Starting from $r_0 = 0.05,$ create a function that generates M paths of the interest rate following the Vasicek model. The function takes as input the volatility, $b$ and $a$, and default inputs are ($a=1, b=0.06, \\sigma = 0.3$). Playing with values of a and b, what do they represent?"
   ]
  },
  {
   "cell_type": "code",
   "execution_count": 25,
   "metadata": {},
   "outputs": [],
   "source": [
    "def time_walk(N, T, M):\n",
    "    # we know that every increment is N(0, t_i - t_{i-1}), so we generate white noise and\n",
    "    # rescale it properly, then we cumsum on the first dimensione to get a path\n",
    "    np.random.seed(12345)\n",
    "    jump = T/N\n",
    "    increments = np.sqrt(jump)*np.random.normal(size=(N, M))\n",
    "    W = np.cumsum(increments, axis=0)\n",
    "    # We stack W with n_paths 0 at the beginning since we know W_0 = 0\n",
    "    W = np.vstack((np.zeros((1, M)), W))\n",
    "    return W\n",
    "\n",
    "\n",
    "def generate_vasicek(r0:float, a:float, b:float, sigma:float, T:float, N:int, M:int):\n",
    "    \"\"\"\n",
    "    Simuilation of interest rate under Vasicek model\n",
    "    @param r0: initial interest rate\n",
    "    @param a: parameter 1\n",
    "    @param b: parameter 2\n",
    "    @param sigma: volatility\n",
    "    @param M: number of rates generated\n",
    "    \n",
    "    @return out: interest rates \n",
    "    \"\"\"\n",
    "    rate_paths = np.zeros((M, N+1))\n",
    "    dt = T/N\n",
    "    W = time_walk(N, T, M).T\n",
    "    for i in range(M):\n",
    "        W_increments = np.diff(W[i])\n",
    "        rates = np.zeros(N+1)\n",
    "        rates[0] = r0\n",
    "        for j in range(1, N+1):\n",
    "            rates[j] = rates[j-1] + a * (b - rates[j-1]) * dt + sigma * W_increments[j-1]\n",
    "        rate_paths[i] = rates\n",
    "    return rate_paths"
   ]
  },
  {
   "cell_type": "code",
   "execution_count": 26,
   "metadata": {},
   "outputs": [
    {
     "name": "stderr",
     "output_type": "stream",
     "text": [
      "100%|██████████| 100/100 [00:47<00:00,  2.10it/s]\n",
      "100%|██████████| 100/100 [00:47<00:00,  2.10it/s]\n",
      "100%|██████████| 100/100 [00:47<00:00,  2.09it/s]\n"
     ]
    }
   ],
   "source": [
    "r0 = 0.05\n",
    "sigma = 0.3\n",
    "T = 1\n",
    "compares = dict()\n",
    "\n",
    "for b in [0.02, 0.04, 0.1]:\n",
    "    a_vals = []\n",
    "    for a in tqdm(range(50, 150)):\n",
    "        a = a/100\n",
    "        cur_rates = generate_vasicek(r0, a, b, sigma, T, N, M)\n",
    "        a_vals.append(np.mean(cur_rates, axis=0)[-1])\n",
    "    compares[f\"{b}\"] = a_vals"
   ]
  },
  {
   "cell_type": "code",
   "execution_count": 27,
   "metadata": {},
   "outputs": [
    {
     "data": {
      "image/png": "[encoded data removed]",
      "text/plain": [
       "<Figure size 640x480 with 1 Axes>"
      ]
     },
     "metadata": {},
     "output_type": "display_data"
    },
    {
     "data": {
      "image/png": "[encoded data removed]",
      "text/plain": [
       "<Figure size 640x480 with 1 Axes>"
      ]
     },
     "metadata": {},
     "output_type": "display_data"
    },
    {
     "data": {
      "image/png": "[encoded data removed]",
      "text/plain": [
       "<Figure size 640x480 with 1 Axes>"
      ]
     },
     "metadata": {},
     "output_type": "display_data"
    },
    {
     "name": "stdout",
     "output_type": "stream",
     "text": [
      "Generally we see that when a is bigger, the average rate will be closer\n",
      "to the corresponding b, and vice versa.\n",
      "\n",
      "For parameter b, it represents the long-term mean or equilibrium level to which \n",
      "the interest rates are expected to revert. The parameter b is the theoretical \n",
      "mean that the interest rate process aims to stabilize around over a long period.\n",
      "\n",
      "Parameter a quantifies the speed at which the interest rates revert to their mean level b. \n",
      "This is a measure of how quickly the rate corrects itself towards the equilibrium after \n",
      "a deviation.\n"
     ]
    }
   ],
   "source": [
    "for b in [0.02, 0.04, 0.1]:\n",
    "    plt.plot([x/100 for x in range(50, 150)], compares[f\"{b}\"], label=\"Estimated b\")\n",
    "    plt.plot([x/100 for x in range(50, 150)], [b]*100, label=\"True b\")\n",
    "    plt.xlabel(\"a\")\n",
    "    plt.ylabel(\"values of b\")\n",
    "    plt.legend()\n",
    "    plt.title(f\"values of a and b when b={b}\")\n",
    "    plt.show()\n",
    "\n",
    "out = \"\"\"Generally we see that when a is bigger, the average rate will be closer\n",
    "to the corresponding b, and vice versa.\n",
    "\n",
    "For parameter b, it represents the long-term mean or equilibrium level to which \n",
    "the interest rates are expected to revert. The parameter b is the theoretical \n",
    "mean that the interest rate process aims to stabilize around over a long period.\n",
    "\n",
    "Parameter a quantifies the speed at which the interest rates revert to their mean level b. \n",
    "This is a measure of how quickly the rate corrects itself towards the equilibrium after \n",
    "a deviation.\"\"\"\n",
    "\n",
    "for s in out.split(\"\\n\"):\n",
    "    print(s)"
   ]
  },
  {
   "cell_type": "markdown",
   "metadata": {},
   "source": [
    "#### (4.2) Use the function you just created to price a Zero Coupon Bond with maturity of 0.5, 1, 2, 5 years under the Vasicek model. We recall that the price of a zero coupon bond is given by $$B_{0,T}=\\mathbb{E}[e^{-\\int_0^Tr_sds}]$$ You can approach the expectation with the Appendix and the integral $\\int_0^Tr_sds \\approx \\sum r_{t_i}(t_{i+1}-t_i)$"
   ]
  },
  {
   "cell_type": "code",
   "execution_count": 28,
   "metadata": {},
   "outputs": [
    {
     "name": "stdout",
     "output_type": "stream",
     "text": [
      "T: 0.5 | simulated coupon price: 0.9747558188647041\n",
      "T: 1 | simulated coupon price: 0.9532658640603892\n",
      "T: 2 | simulated coupon price: 0.9229228594694953\n",
      "T: 5 | simulated coupon price: 0.8722551737875823\n",
      "\n",
      "Codes above will simulate the Vasicek model for interest rates \n",
      "over different maturities and compute the price of zero-coupon bonds \n",
      "for those maturities. By comparing the bond prices for different \n",
      "maturities, we can see the price is higher for less time to mature\n"
     ]
    }
   ],
   "source": [
    "r0 = 0.05\n",
    "a = 1\n",
    "b = 0.06\n",
    "sigma = 0.3\n",
    "i = 0\n",
    "coupon_prices = []\n",
    "\n",
    "for T in [0.5, 1, 2, 5]:\n",
    "    rs = generate_vasicek(r0, a, b, sigma, T, N, M)\n",
    "    coupon_price = np.mean(np.e**(-(np.sum(rs,axis=1) * (T/N))))\n",
    "    coupon_prices.append(coupon_price)\n",
    "    i += 1\n",
    "\n",
    "i = 0\n",
    "for T in [0.5, 1, 2, 5]:\n",
    "    print(f\"T: {T} | simulated coupon price: {coupon_prices[i]}\")\n",
    "    i += 1\n",
    "\n",
    "out = \"\"\"Codes above will simulate the Vasicek model for interest rates \n",
    "over different maturities and compute the price of zero-coupon bonds \n",
    "for those maturities. By comparing the bond prices for different \n",
    "maturities, we can see the price is higher for less time to mature\"\"\"\n",
    "\n",
    "print()\n",
    "for s in out.split(\"\\n\"):\n",
    "    print(s)"
   ]
  },
  {
   "cell_type": "markdown",
   "metadata": {},
   "source": [
    "#### (4.3) Compare your result with the explicit formula $$B_0(T)=\\exp\\bigg[-bT+(b-r_0)\\frac{1-e^{-aT}}{a}-\\frac{\\sigma^2}{4a^3}(1-e^{-aT})^2+\\frac{\\sigma^2}{2a^2}(T-\\frac{1-e^{-aT}}{a})\\bigg]$$"
   ]
  },
  {
   "cell_type": "code",
   "execution_count": 29,
   "metadata": {},
   "outputs": [
    {
     "name": "stdout",
     "output_type": "stream",
     "text": [
      "We see that the explicit formula produces coupon prices that form a linear relationship with\n",
      "simulated coupon prices, with a slope of 1. This indicates that explicit coupon prices are very similar\n",
      "to the simulated coupon prices at different expire dates.\n"
     ]
    },
    {
     "data": {
      "image/png": "[encoded data removed]",
      "text/plain": [
       "<Figure size 640x480 with 1 Axes>"
      ]
     },
     "metadata": {},
     "output_type": "display_data"
    }
   ],
   "source": [
    "r0 = 0.05\n",
    "a = 1\n",
    "b = 0.06\n",
    "sigma = 0.3\n",
    "i = 0\n",
    "explicity_coupon_prices = []\n",
    "\n",
    "for T in [0.5, 1, 2, 5]:\n",
    "    coef = (1-np.e**(-a*T))/a\n",
    "    b0 = np.e**(-b*T + (b-r0)*coef - ((sigma**2)/(4*a))*(coef**2) + \\\n",
    "                ((sigma**2)/(2*a**2)) * (T-coef))\n",
    "    explicity_coupon_prices.append(b0)\n",
    "\n",
    "print(\"We see that the explicit formula produces coupon prices that form a linear relationship with\\nsimulated coupon prices, with a slope of 1. This indicates that explicit coupon prices are very similar\\nto the simulated coupon prices at different expire dates.\")\n",
    "plt.plot(explicity_coupon_prices, coupon_prices)\n",
    "plt.scatter(explicity_coupon_prices, coupon_prices)\n",
    "plt.xlabel(\"Explicit Coupon Price\")\n",
    "plt.ylabel(\"Estimated Coupon Price\")\n",
    "plt.show()"
   ]
  }
 ],
 "metadata": {
  "kernelspec": {
   "display_name": "Python 3",
   "language": "python",
   "name": "python3"
  },
  "language_info": {
   "codemirror_mode": {
    "name": "ipython",
    "version": 3
   },
   "file_extension": ".py",
   "mimetype": "text/x-python",
   "name": "python",
   "nbconvert_exporter": "python",
   "pygments_lexer": "ipython3",
   "version": "3.11.9"
  }
 },
 "nbformat": 4,
 "nbformat_minor": 2
}
