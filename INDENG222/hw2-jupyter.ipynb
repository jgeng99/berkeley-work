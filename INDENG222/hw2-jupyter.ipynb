{
 "cells": [
  {
   "cell_type": "markdown",
   "metadata": {},
   "source": [
    "## Q1"
   ]
  },
  {
   "cell_type": "code",
   "execution_count": 1,
   "metadata": {},
   "outputs": [],
   "source": [
    "import numpy as np\n",
    "from scipy.stats import norm\n",
    "\n",
    "def BSM(s0:float=100, k:float=100, r:float=0.06, q:float=0.06, sigma:float=0.35, \n",
    "        T:float=1) -> float:\n",
    "    '''\n",
    "    Implementation of black shore. Served as the true value of the option.\n",
    "    @param s0: spot price for the stock\n",
    "    @param k: strike price\n",
    "    @param r: risk free rate\n",
    "    @param q: dividend yield\n",
    "    @param sigma: volatility\n",
    "    @param T: time span\n",
    "    @param call_option: if a call or put option\n",
    "    @param seednum: random seed \n",
    "    \n",
    "    @return out: value of the option \n",
    "    '''\n",
    "    d1 = (np.log(s0/k) + (r - q + sigma**2/2)*T) / (sigma*np.sqrt(T))\n",
    "    d2 = d1 - sigma* np.sqrt(T)\n",
    "\n",
    "    out = s0 * np.exp(-q*T) * norm.cdf(d1) - k * np.exp(-r*T) * norm.cdf(d2)\n",
    "\n",
    "    # print(d1, d2)\n",
    "    \n",
    "    return {\"bsm\": out, \"delta\": np.exp(-q*T) * norm.cdf(d1)}"
   ]
  },
  {
   "cell_type": "code",
   "execution_count": 2,
   "metadata": {},
   "outputs": [
    {
     "data": {
      "text/plain": [
       "(12.738697195927065, 0.6365916328282748)"
      ]
     },
     "execution_count": 2,
     "metadata": {},
     "output_type": "execute_result"
    }
   ],
   "source": [
    "s0 = 100\n",
    "k1 = 95\n",
    "k2 = 95+115\n",
    "r = 0.055\n",
    "q = 0.03\n",
    "sigma = 0.35\n",
    "T = 1/2\n",
    "\n",
    "f = BSM(s0, k1, r, q, sigma, T)\n",
    "f1 = BSM(s0, k2, r, q, sigma, T)\n",
    "\n",
    "f[\"bsm\"] - f1[\"bsm\"], f[\"delta\"] - f1[\"delta\"]"
   ]
  },
  {
   "cell_type": "code",
   "execution_count": 3,
   "metadata": {},
   "outputs": [
    {
     "data": {
      "text/plain": [
       "{'bsm': 0.016032862256461444, 'delta': 0.0023388242513514472}"
      ]
     },
     "execution_count": 3,
     "metadata": {},
     "output_type": "execute_result"
    }
   ],
   "source": [
    "f1"
   ]
  },
  {
   "cell_type": "markdown",
   "metadata": {},
   "source": [
    "## Q2"
   ]
  },
  {
   "cell_type": "code",
   "execution_count": 4,
   "metadata": {},
   "outputs": [
    {
     "data": {
      "text/plain": [
       "28.746281170010942"
      ]
     },
     "execution_count": 4,
     "metadata": {},
     "output_type": "execute_result"
    }
   ],
   "source": [
    "s = 100\n",
    "sigma = 0.3\n",
    "r = 0.055\n",
    "q = 0.045\n",
    "K = 150\n",
    "alpha = (-(r-q-(sigma**2)/2) + np.sqrt((r-q-(sigma**2)/2)**2 + 2*r*(sigma**2))) / (sigma**2)\n",
    "H = (alpha*K)/(alpha-1)\n",
    "\n",
    "(K/(alpha-1) * (((alpha-1)/alpha) * (s/K))**alpha)\n",
    "# alpha, H"
   ]
  },
  {
   "cell_type": "markdown",
   "metadata": {},
   "source": [
    "## Q3"
   ]
  },
  {
   "cell_type": "code",
   "execution_count": 5,
   "metadata": {},
   "outputs": [
    {
     "data": {
      "text/plain": [
       "0.3607888483531151"
      ]
     },
     "execution_count": 5,
     "metadata": {},
     "output_type": "execute_result"
    }
   ],
   "source": [
    "326455.25/(1000000*np.exp(-0.05*2))"
   ]
  },
  {
   "cell_type": "code",
   "execution_count": 6,
   "metadata": {},
   "outputs": [
    {
     "data": {
      "text/plain": [
       "63.62092853694438"
      ]
     },
     "execution_count": 6,
     "metadata": {},
     "output_type": "execute_result"
    }
   ],
   "source": [
    "110*np.exp(-0.05*2)*(1-0.3608)"
   ]
  },
  {
   "cell_type": "markdown",
   "metadata": {},
   "source": [
    "## Q4"
   ]
  },
  {
   "cell_type": "code",
   "execution_count": 7,
   "metadata": {},
   "outputs": [
    {
     "data": {
      "text/plain": [
       "0.133"
      ]
     },
     "execution_count": 7,
     "metadata": {},
     "output_type": "execute_result"
    }
   ],
   "source": [
    "0.055+1.2*(0.12-0.055)"
   ]
  },
  {
   "cell_type": "code",
   "execution_count": 8,
   "metadata": {},
   "outputs": [
    {
     "data": {
      "text/plain": [
       "1000000"
      ]
     },
     "execution_count": 8,
     "metadata": {},
     "output_type": "execute_result"
    }
   ],
   "source": [
    "20000*30+4000*100"
   ]
  },
  {
   "cell_type": "code",
   "execution_count": 9,
   "metadata": {},
   "outputs": [
    {
     "data": {
      "text/plain": [
       "0.6"
      ]
     },
     "execution_count": 9,
     "metadata": {},
     "output_type": "execute_result"
    }
   ],
   "source": [
    "20000*30 / (20000*30+4000*100)"
   ]
  },
  {
   "cell_type": "code",
   "execution_count": 10,
   "metadata": {},
   "outputs": [
    {
     "data": {
      "text/plain": [
       "0.10799999999999998"
      ]
     },
     "execution_count": 10,
     "metadata": {},
     "output_type": "execute_result"
    }
   ],
   "source": [
    "(0.6) * 0.06 + (0.4) * 0.18"
   ]
  },
  {
   "cell_type": "code",
   "execution_count": 11,
   "metadata": {},
   "outputs": [
    {
     "data": {
      "text/plain": [
       "0.3387270287414336"
      ]
     },
     "execution_count": 11,
     "metadata": {},
     "output_type": "execute_result"
    }
   ],
   "source": [
    "np.sqrt((0.6)**2*0.09 + 2*(0.6)*(0.4)*0.6*1.2*0.35**2 + (0.4)**2*0.25)"
   ]
  },
  {
   "cell_type": "code",
   "execution_count": 12,
   "metadata": {},
   "outputs": [
    {
     "data": {
      "text/plain": [
       "0.84"
      ]
     },
     "execution_count": 12,
     "metadata": {},
     "output_type": "execute_result"
    }
   ],
   "source": [
    "(0.6)*0.6 + (0.4)*1.2"
   ]
  },
  {
   "cell_type": "code",
   "execution_count": 13,
   "metadata": {},
   "outputs": [
    {
     "data": {
      "text/plain": [
       "105.0"
      ]
     },
     "execution_count": 13,
     "metadata": {},
     "output_type": "execute_result"
    }
   ],
   "source": [
    "1000000*0.84/(8000)"
   ]
  },
  {
   "cell_type": "code",
   "execution_count": 14,
   "metadata": {},
   "outputs": [
    {
     "data": {
      "text/plain": [
       "41985.68698516198"
      ]
     },
     "execution_count": 14,
     "metadata": {},
     "output_type": "execute_result"
    }
   ],
   "source": [
    "1000000*1.96*0.3387*np.sqrt(1/250)"
   ]
  },
  {
   "cell_type": "code",
   "execution_count": 19,
   "metadata": {},
   "outputs": [],
   "source": [
    "x = 1000000/160000\n",
    "y = (8000*105)/160000\n",
    "sigma_pi = 0.3387\n",
    "sigma_maket = 0.35\n",
    "cov_pi_market = 0.1029\n",
    "a = np.sqrt((x**2)*(sigma_pi**2) + 2*x*(y)*cov_pi_market + (y)**2*(sigma_maket**2))"
   ]
  },
  {
   "cell_type": "code",
   "execution_count": 22,
   "metadata": {},
   "outputs": [
    {
     "data": {
      "text/plain": [
       "20853.263086483283"
      ]
     },
     "execution_count": 22,
     "metadata": {},
     "output_type": "execute_result"
    }
   ],
   "source": [
    "160000*1.96 *1.0514* np.sqrt(1/250)"
   ]
  },
  {
   "cell_type": "code",
   "execution_count": 2,
   "metadata": {},
   "outputs": [
    {
     "data": {
      "text/plain": [
       "' ab'"
      ]
     },
     "execution_count": 2,
     "metadata": {},
     "output_type": "execute_result"
    }
   ],
   "source": [
    "\" a\" + \"b\""
   ]
  }
 ],
 "metadata": {
  "kernelspec": {
   "display_name": "Python 3",
   "language": "python",
   "name": "python3"
  },
  "language_info": {
   "codemirror_mode": {
    "name": "ipython",
    "version": 3
   },
   "file_extension": ".py",
   "mimetype": "text/x-python",
   "name": "python",
   "nbconvert_exporter": "python",
   "pygments_lexer": "ipython3",
   "version": "3.11.8"
  }
 },
 "nbformat": 4,
 "nbformat_minor": 2
}
