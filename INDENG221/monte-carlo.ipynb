{
 "cells": [
  {
   "cell_type": "code",
   "execution_count": 6,
   "metadata": {},
   "outputs": [],
   "source": [
    "import numpy as np\n",
    "from scipy.stats import norm"
   ]
  },
  {
   "cell_type": "markdown",
   "metadata": {},
   "source": [
    "## (1)"
   ]
  },
  {
   "cell_type": "code",
   "execution_count": 57,
   "metadata": {},
   "outputs": [],
   "source": [
    "def MC(s0:float, k:float, r:float, q:float, sigma:float, T:float, \n",
    "       timestep:int, epoch:int, call_option:bool, seednum:int) -> float:\n",
    "    '''\n",
    "    Implementation of monte-carlo simulation, assuming each increment/step\n",
    "    (change of price) is normally distributed, the drift and variance rate of\n",
    "    x remain constant, equal to their values at time t, and in the time interval \n",
    "    of delta t.\n",
    "    \n",
    "    @param s0: spot price for the stock\n",
    "    @param k: strike price\n",
    "    @param r: risk free rate\n",
    "    @param q: dividend yield\n",
    "    @param sigma: volatility\n",
    "    @param T: time span\n",
    "    @param timestep: number of steps within each time span\n",
    "    @param epoch: number of paths\n",
    "    @param call_option: if a call or put option\n",
    "    @param seednum: random seed\n",
    "\n",
    "    @return out: list of simulated price of dimension epoch\n",
    "    '''\n",
    "    np.random.seed(seednum)\n",
    "\n",
    "    mu = r - q\n",
    "    var = sigma ** 2\n",
    "    dt = T / timestep\n",
    "    out = []\n",
    "\n",
    "    # epoch start\n",
    "    for e in range(epoch):\n",
    "\n",
    "        # start simulation of each path\n",
    "        dx = 0\n",
    "        for _ in range(timestep):\n",
    "            \n",
    "            # start each dt\n",
    "            dx += (mu - var/2)*dt + sigma*np.random.normal()*np.sqrt(dt)\n",
    "        \n",
    "        # add to the log of s0\n",
    "        st = np.log(s0) + dx\n",
    "        st = np.exp(st)\n",
    "        \n",
    "        # calculate the value of the option regarding st\n",
    "        out.append(max(st-k, 0)) if call_option else out.append(max(k-st, 0))\n",
    "    \n",
    "    return np.mean(out)*np.exp(-r*T)"
   ]
  },
  {
   "cell_type": "code",
   "execution_count": 17,
   "metadata": {},
   "outputs": [],
   "source": [
    "def BSM(s0:float, k:float, r:float, q:float, sigma:float, T:float,\n",
    "        call_option:bool) -> float:\n",
    "    '''\n",
    "    Implementation of black shore.\n",
    "    @param s0: spot price for the stock\n",
    "    @param k: strike price\n",
    "    @param r: risk free rate\n",
    "    @param q: dividend yield\n",
    "    @param sigma: volatility\n",
    "    @param T: time span\n",
    "    @param call_option: if a call or put option\n",
    "    @param seednum: random seed \n",
    "    \n",
    "    @return out: value of the option \n",
    "    '''\n",
    "    d1 = (np.log(s0/k) + (r - q + sigma**2/2)*T) / (sigma*np.sqrt(T))\n",
    "    d2 = d1 - sigma* np.sqrt(T)\n",
    "    \n",
    "    if call_option:\n",
    "        out = s0 * np.exp(-q*T) * norm.cdf(d1) - k * np.exp(-r*T) * norm.cdf(d2)\n",
    "    else:\n",
    "        out = k * np.exp(-r*T) * norm.cdf(-d2) - s0 * np.exp(-q*T) * norm.cdf(-d1)\n",
    "    return out"
   ]
  },
  {
   "cell_type": "code",
   "execution_count": 58,
   "metadata": {},
   "outputs": [
    {
     "data": {
      "text/plain": [
       "(13.502692972236593, 13.083027408250246)"
      ]
     },
     "execution_count": 58,
     "metadata": {},
     "output_type": "execute_result"
    }
   ],
   "source": [
    "s0 = 100\n",
    "k = 100 \n",
    "r = 0.06\n",
    "q = 0.06\n",
    "sigma = 0.35 \n",
    "T = 1 \n",
    "timestep = 100 \n",
    "epoch = 4000\n",
    "call_option = True\n",
    "seednum = 102623\n",
    "\n",
    "plain_mc = MC(s0, k, r, q, sigma, T, timestep, epoch, call_option, seednum)\n",
    "bsm = BSM(s0, k, r, q, sigma, T, call_option)\n",
    "plain_mc, bsm"
   ]
  },
  {
   "cell_type": "markdown",
   "metadata": {},
   "source": [
    "## (2)"
   ]
  },
  {
   "cell_type": "code",
   "execution_count": 59,
   "metadata": {},
   "outputs": [],
   "source": [
    "def Antithetic_MC(s0:float, k:float, r:float, q:float, sigma:float, T:float, \n",
    "       timestep:int, epoch:int, call_option:bool, seednum:int) -> float:\n",
    "    '''\n",
    "    Implementation of monte-carlo simulation using antithetic method.\n",
    "    \n",
    "    @param s0: spot price for the stock\n",
    "    @param k: strike price\n",
    "    @param r: risk-free interest rate\n",
    "    @param q: dividend yield\n",
    "    @param sigma: volatility\n",
    "    @param T: time span\n",
    "    @param timestep: number of steps within each time span\n",
    "    @param epoch: number of paths\n",
    "    @param call_option: if a call or put option\n",
    "    @param seednum: random seed\n",
    "\n",
    "    @return out: estimated option price using Monte Carlo simulation with antithetic method\n",
    "    '''\n",
    "    np.random.seed(seednum)\n",
    "    mu = r - q\n",
    "    var = sigma ** 2\n",
    "    dt = T / timestep\n",
    "    out = []\n",
    "   \n",
    "    # epoch start\n",
    "    for e in range(epoch):\n",
    "\n",
    "        # start simulation of each path\n",
    "        f1, f2 = 0, 0\n",
    "        for _ in range(timestep):\n",
    "            \n",
    "            # start each dt\n",
    "            z = np.random.normal()\n",
    "            f1 += (mu - var/2)*dt + sigma*z*np.sqrt(dt)\n",
    "            f2 += (mu - var/2)*dt + sigma*(-z)*np.sqrt(dt)\n",
    "        \n",
    "        # add to the log of s0\n",
    "        st1 = np.exp(np.log(s0) + f1)\n",
    "        st2 = np.exp(np.log(s0) + f2)\n",
    "        op1 = max(st1-k, 0) if call_option else max(k-st1, 0)\n",
    "        op2 = max(st2-k, 0) if call_option else max(k-st2, 0)\n",
    "        \n",
    "        # calculate the value of the option regarding st\n",
    "        out.append((op1+op2)/2)\n",
    "    \n",
    "    return np.mean(out)*np.exp(-r*T)"
   ]
  },
  {
   "cell_type": "code",
   "execution_count": 72,
   "metadata": {},
   "outputs": [
    {
     "data": {
      "text/plain": [
       "(13.34634759851727, 13.083027408250246)"
      ]
     },
     "execution_count": 72,
     "metadata": {},
     "output_type": "execute_result"
    }
   ],
   "source": [
    "ant_mc = Antithetic_MC(s0, k, r, q, sigma, T, timestep, epoch, call_option, seednum)\n",
    "ant_mc, bsm"
   ]
  },
  {
   "cell_type": "markdown",
   "metadata": {},
   "source": [
    "## (3)"
   ]
  },
  {
   "cell_type": "code",
   "execution_count": 69,
   "metadata": {},
   "outputs": [],
   "source": [
    "def Control_Variate_MC(s0:float, k:float, r:float, q:float, sigma:float, T:float, \n",
    "                       timestep:int, epoch:int, call_option:bool, seednum:int) -> float:\n",
    "    '''\n",
    "    Implementation of monte-carlo simulation using control variate method.\n",
    "    \n",
    "    @param s0: spot price for the stock\n",
    "    @param k: strike price\n",
    "    @param r: risk-free interest rate\n",
    "    @param q: dividend yield\n",
    "    @param sigma: volatility\n",
    "    @param T: time span\n",
    "    @param timestep: number of steps within each time span\n",
    "    @param epoch: number of paths\n",
    "    @param call_option: if a call or put option\n",
    "    @param seednum: random seed\n",
    "\n",
    "    @return out: estimated option price using Monte Carlo simulation with control variate method\n",
    "    '''\n",
    "    np.random.seed(seednum)\n",
    "    mu = r - q\n",
    "    var = sigma ** 2\n",
    "    dt = T / timestep\n",
    "    f_A_hat, f_B_hat = [], []\n",
    "\n",
    "    # epoch start\n",
    "    for e in range(epoch):\n",
    "\n",
    "        # start simulation of each path\n",
    "        dx = 0\n",
    "        for _ in range(timestep):\n",
    "            \n",
    "            # start each dt\n",
    "            dx += (mu - var/2)*dt + sigma*np.random.normal()*np.sqrt(dt)\n",
    "        \n",
    "        # add to the log of s0\n",
    "        st = np.log(s0) + dx\n",
    "        st = np.exp(st)\n",
    "        \n",
    "        # calculate the value of the option regarding st\n",
    "        f_A_hat.append(max(st-k, 0)) if call_option else f_A_hat.append(max(k-st, 0))\n",
    "        f_B_hat.append(st)\n",
    "    \n",
    "    f_A_hat_num = np.mean(f_A_hat)\n",
    "    # use 1/(n-1) for both covariance and variance due to sample\n",
    "    # this is already the case for np.cov and var\n",
    "    beta = (np.cov(f_A_hat, f_B_hat)/np.var(f_B_hat))[0, 1]\n",
    "    f_B_hat_num = np.mean(f_B_hat)\n",
    "    f_B = s0 * np.exp((r - q) * T)\n",
    "\n",
    "    \n",
    "    return (f_A_hat_num-beta*(f_B_hat_num-f_B))*np.exp(-r * T)"
   ]
  },
  {
   "cell_type": "code",
   "execution_count": 71,
   "metadata": {},
   "outputs": [
    {
     "data": {
      "text/plain": [
       "(13.217164428481622, 13.083027408250246)"
      ]
     },
     "execution_count": 71,
     "metadata": {},
     "output_type": "execute_result"
    }
   ],
   "source": [
    "cv_mc = Control_Variate_MC(s0, k, r, q, sigma, T, timestep, epoch, call_option, seednum)\n",
    "cv_mc, bsm"
   ]
  }
 ],
 "metadata": {
  "kernelspec": {
   "display_name": "Python 3",
   "language": "python",
   "name": "python3"
  },
  "language_info": {
   "codemirror_mode": {
    "name": "ipython",
    "version": 3
   },
   "file_extension": ".py",
   "mimetype": "text/x-python",
   "name": "python",
   "nbconvert_exporter": "python",
   "pygments_lexer": "ipython3",
   "version": "3.11.6"
  },
  "orig_nbformat": 4
 },
 "nbformat": 4,
 "nbformat_minor": 2
}
