{
 "cells": [
  {
   "cell_type": "code",
   "execution_count": 19,
   "id": "8312eef4",
   "metadata": {},
   "outputs": [],
   "source": [
    "import numpy as np\n",
    "import scipy.stats as spst"
   ]
  },
  {
   "cell_type": "markdown",
   "id": "768579e0",
   "metadata": {},
   "source": [
    "# 1. Price an American call option with spot stock price $S_0$ = 100.0, strike $K$ = 100.0, time to maturity $T$ = 1.0 year, risk free interest rate $r$ = 6%, continuous dividend yield $q$ = 6%, volatility $\\sigma$ = 35% using a 100 step CRR binomial tree. "
   ]
  },
  {
   "cell_type": "code",
   "execution_count": 20,
   "id": "bee183c8",
   "metadata": {},
   "outputs": [],
   "source": [
    "S0 = 100\n",
    "K = 100\n",
    "T = 1\n",
    "r = 0.06\n",
    "q = 0.06\n",
    "sigma = 0.35 \n",
    "option_type = 'call'"
   ]
  },
  {
   "cell_type": "code",
   "execution_count": 21,
   "id": "589b9fca",
   "metadata": {},
   "outputs": [],
   "source": [
    "n_steps = 100"
   ]
  },
  {
   "cell_type": "code",
   "execution_count": 22,
   "id": "2e9dbf4a",
   "metadata": {},
   "outputs": [
    {
     "name": "stdout",
     "output_type": "stream",
     "text": [
      "BSM price = 13.08\n"
     ]
    }
   ],
   "source": [
    "# black scholes model\n",
    "d1 = (np.log(S0/K) + (r - q + sigma**2/2) * T) / (sigma * np.sqrt(T))\n",
    "d2 = d1 - sigma * np.sqrt(T)\n",
    "\n",
    "C = S0 * np.exp(-q * T) * spst.norm.cdf(d1) - K * np.exp(-r * T) * spst.norm.cdf(d2)\n",
    "\n",
    "print('BSM price = %.2f' % C)"
   ]
  },
  {
   "cell_type": "code",
   "execution_count": 23,
   "id": "0edb416f",
   "metadata": {},
   "outputs": [],
   "source": [
    "def option_payoff(S, K, option_type):\n",
    "    payoff = 0.0\n",
    "    \n",
    "    if option_type == \"call\":\n",
    "        payoff = np.maximum(S - K, 0)\n",
    "    elif option_type == \"put\":\n",
    "        payoff = np.maximum(K - S, 0)\n",
    "    return payoff"
   ]
  },
  {
   "cell_type": "code",
   "execution_count": 24,
   "id": "da475093",
   "metadata": {},
   "outputs": [],
   "source": [
    "def get_american_call(S0, K, T, r, q, sigma):\n",
    "    dt = T/n_steps\n",
    "    sqrt_dt = np.sqrt(dt)\n",
    "\n",
    "    # CRR model parameters\n",
    "    u = np.exp(sigma*sqrt_dt)\n",
    "    d = 1/u\n",
    "    p = (np.exp((r - q) * dt) - d)/(u - d)\n",
    "\n",
    "    # simulate stock prices\n",
    "    St = np.zeros((n_steps+1, n_steps+1))\n",
    "    for i in range(n_steps+1):\n",
    "        for j in range(i+1):\n",
    "            St[j,i] = S0 * (u**(i-j)) * (d**(j))\n",
    "\n",
    "    # get payoffs\n",
    "    payoffs = np.zeros((n_steps+1, n_steps+1))\n",
    "    payoffs[:, n_steps] = option_payoff(St[:, n_steps], K, 'call')\n",
    "\n",
    "    # backward induction\n",
    "    for j in range(n_steps-1, -1, -1):\n",
    "        for i in range(j+1):\n",
    "            payoffs[i,j] = np.exp(-r*dt)*(p*payoffs[i,j+1] + (1-p)*payoffs[i+1,j+1]) # never exercise early\n",
    "            payoffs[i,j] = max(payoffs[i,j], St[i,j]-K)\n",
    "\n",
    "    return payoffs, St\n"
   ]
  },
  {
   "cell_type": "code",
   "execution_count": 28,
   "id": "17e18681",
   "metadata": {},
   "outputs": [
    {
     "name": "stdout",
     "output_type": "stream",
     "text": [
      "call price = 13.2413\n",
      "delta = 0.5481\n",
      "gamma = 0.0112\n",
      "theta = -6.0564\n",
      "vega = 37.4546\n",
      "rho = 33.9585\n"
     ]
    }
   ],
   "source": [
    "payoffs, St = get_american_call(S0, K, T, r, q, sigma)\n",
    "dt = T/n_steps\n",
    "\n",
    "delta = (payoffs[0,1] - payoffs[1,1])/(St[0,1] - St[1,1])\n",
    "delta1 = (payoffs[1,2] - payoffs[2,2])/(St[1,2] - St[2,2])\n",
    "delta2 = (payoffs[0,2] - payoffs[1,2])/(St[0,2] - St[1,2])\n",
    "\n",
    "gamma = (delta2 - delta1)/(St[0,1] - St[1,1])\n",
    "\n",
    "theta = (payoffs[1,2] - payoffs[0,0])/(2*dt)\n",
    "\n",
    "vega = (get_american_call(S0, K, T, r, q, sigma+0.0001)[0][0,0] - payoffs[0,0])/0.0001\n",
    "rho = (get_american_call(S0, K, T, r+0.0001, q, sigma)[0][0,0] - payoffs[0,0])/0.0001\n",
    "\n",
    "print('call price = %.4f' % payoffs[0,0])\n",
    "print('delta = %.4f' % delta)\n",
    "print('gamma = %.4f' % gamma)\n",
    "print('theta = %.4f' % theta)\n",
    "print('vega = %.4f' % vega)\n",
    "print('rho = %.4f' % rho)"
   ]
  },
  {
   "cell_type": "code",
   "execution_count": 27,
   "id": "8e555167",
   "metadata": {},
   "outputs": [
    {
     "data": {
      "text/plain": [
       "(13.241257227890095,\n",
       " 0.5480841683241352,\n",
       " 0.01118472156795883,\n",
       " -6.056389015633634)"
      ]
     },
     "execution_count": 27,
     "metadata": {},
     "output_type": "execute_result"
    }
   ],
   "source": [
    "def american_call(S0, K, T, r, q, sigma, n_steps):\n",
    "    dt = T/n_steps\n",
    "    u = np.exp(sigma*np.sqrt(dt))\n",
    "    d = 1/u\n",
    "    p = (np.exp((r-q)*dt)-d)/(u-d)\n",
    "    disc = np.exp(-r*dt)\n",
    "    S = np.zeros([n_steps+1, n_steps+1])\n",
    "    \n",
    "    for i in range(n_steps+1):\n",
    "        for j in range(i+1):\n",
    "            S[j,i] = S0*(d**j)*(u**(i-j))\n",
    "            \n",
    "    # option\n",
    "    C = np.zeros([n_steps+1, n_steps+1])\n",
    "    C[:, n_steps] = np.maximum(np.zeros(n_steps+1),S[:, n_steps]-K)\n",
    "    \n",
    "    for i in np.arange(n_steps-1, -1, -1):\n",
    "        for j in np.arange(0, i+1):\n",
    "            C[j,i] = disc*(p*C[j,i+1] + (1-p)*C[j+1, i+1])\n",
    "            C[j,i] = max(C[j,i], S[j, i]-K)\n",
    "    delta = (C[0,1] - C[1,1])/(S[0,1] - S[1,1])\n",
    "    delta1 = (C[1,2] - C[2,2])/(S[1,2]-S[2,2])\n",
    "    delta2 = (C[0,2] - C[1,2])/(S[0,2] - S[1,2])\n",
    "    gamma = (delta2-delta1)/(S[0,1] - S[1,1])\n",
    "    theta = (C[1,2]-C[0,0]) / (2*dt)\n",
    "    \n",
    "    return C[0,0], delta, gamma, theta\n",
    "    \n",
    "american_call(100.0, 100.0, 1.0, 0.06, 0.06, 0.35, 100)"
   ]
  },
  {
   "cell_type": "code",
   "execution_count": null,
   "id": "2e3b2be3",
   "metadata": {},
   "outputs": [],
   "source": []
  },
  {
   "cell_type": "code",
   "execution_count": null,
   "id": "62bcaa86",
   "metadata": {},
   "outputs": [],
   "source": []
  }
 ],
 "metadata": {
  "kernelspec": {
   "display_name": "Python 3 (ipykernel)",
   "language": "python",
   "name": "python3"
  },
  "language_info": {
   "codemirror_mode": {
    "name": "ipython",
    "version": 3
   },
   "file_extension": ".py",
   "mimetype": "text/x-python",
   "name": "python",
   "nbconvert_exporter": "python",
   "pygments_lexer": "ipython3",
   "version": "3.9.7"
  }
 },
 "nbformat": 4,
 "nbformat_minor": 5
}
