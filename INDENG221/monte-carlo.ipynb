{
 "cells": [
  {
   "cell_type": "code",
   "execution_count": 2,
   "metadata": {},
   "outputs": [],
   "source": [
    "import numpy as np\n",
    "import random"
   ]
  },
  {
   "cell_type": "code",
   "execution_count": 37,
   "metadata": {},
   "outputs": [],
   "source": [
    "def MC(s0, k, r, q, sigma, T, timestep, epoch, seednum):\n",
    "    '''\n",
    "    Implementation of monte-carlo simulation, assuming each increment/step\n",
    "    (change of price) is normally distributed, the drift and variance rate of\n",
    "    x remain constant, equal to their values at time t, and in the time interval \n",
    "    of delta t.\n",
    "    @param s0: spot price for the stock\n",
    "    @param k: strike price\n",
    "    @param r: risk free rate\n",
    "    @param q: dividend yield\n",
    "    @param sigma: volatility\n",
    "    @param T: time span\n",
    "    @param timestep: number of steps within each time span\n",
    "    @param epoch: number of paths\n",
    "    @param seednum: random seed\n",
    "\n",
    "    @return mean simulated final stock price (int)\n",
    "    '''\n",
    "    random.seed(seednum)\n",
    "\n",
    "    mu = r - q\n",
    "    var = sigma ** 2\n",
    "    dt = T / timestep\n",
    "    st_avg = 0\n",
    "\n",
    "    # epoch start\n",
    "    for e in range(epoch):\n",
    "\n",
    "        # start simulation of each path\n",
    "        dx = 0\n",
    "        for _ in range(timestep):\n",
    "            \n",
    "            # start each dt\n",
    "            dx += (mu - var/2)*dt + sigma*np.random.normal()*np.sqrt(dt)\n",
    "        \n",
    "        # add to the log of s0\n",
    "        st = np.log(s0) + dx\n",
    "        st_avg += st\n",
    "    \n",
    "    return np.exp(st_avg/epoch) * np.exp(-r*T)"
   ]
  },
  {
   "cell_type": "code",
   "execution_count": 43,
   "metadata": {},
   "outputs": [
    {
     "data": {
      "text/plain": [
       "89.02813073078295"
      ]
     },
     "execution_count": 43,
     "metadata": {},
     "output_type": "execute_result"
    }
   ],
   "source": [
    "s0 = 100\n",
    "k = 100 \n",
    "r = 0.06\n",
    "q = 0.06\n",
    "sigma = 0.35 \n",
    "T = 1 \n",
    "timestep = 100 \n",
    "epoch = 4000\n",
    "seednum = 102623\n",
    "\n",
    "MC(s0, k, r, q, sigma, T, timestep, epoch, seednum)"
   ]
  }
 ],
 "metadata": {
  "kernelspec": {
   "display_name": "Python 3",
   "language": "python",
   "name": "python3"
  },
  "language_info": {
   "codemirror_mode": {
    "name": "ipython",
    "version": 3
   },
   "file_extension": ".py",
   "mimetype": "text/x-python",
   "name": "python",
   "nbconvert_exporter": "python",
   "pygments_lexer": "ipython3",
   "version": "3.11.6"
  },
  "orig_nbformat": 4
 },
 "nbformat": 4,
 "nbformat_minor": 2
}
