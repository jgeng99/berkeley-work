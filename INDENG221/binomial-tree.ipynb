{
 "cells": [
  {
   "cell_type": "code",
   "execution_count": 2,
   "metadata": {},
   "outputs": [],
   "source": [
    "import numpy as np\n",
    "from scipy.stats import norm"
   ]
  },
  {
   "cell_type": "markdown",
   "metadata": {},
   "source": [
    "##### Price the corresponding American call option with the same input as the previous problem using a 100 step CRR binomial tree. Also calculate delta, gamma, theta, vega and rho using the techniques discussed in the lecture. Present your answers to 4 decimal places.\n",
    "###### Note: depending on the choice of software platforms and seeds for the random number generator the MC results may vary slightly (the differences will getting smaller as the # of simulated path increases). On the other hand for a given binomial tree construction (CRR tree with 100 steps in our case) the results on a tree are unambiguous."
   ]
  },
  {
   "cell_type": "code",
   "execution_count": 6,
   "metadata": {},
   "outputs": [],
   "source": [
    "def CRR(S0:float=100, K:float=100, T:float=1, r:float=0.06,\n",
    "        q:float=0.06, sigma:float=0.35, dsigma:float=0.05, \n",
    "        dr:float=0.01, N:int=100)-> float:\n",
    "    '''\n",
    "    Implementation of CRR Binomial Tree to estimate the option \n",
    "    price. \n",
    "\n",
    "    @param S0: initial price\n",
    "    @param K: strike price\n",
    "    @param T: time to maturity\n",
    "    @param r: risk free interest rate\n",
    "    @param q: continuous dividend yield\n",
    "    @param sigma: volatility\n",
    "    @param N: timestep\n",
    "\n",
    "    @return out: option price\n",
    "    '''\n",
    "    # Initialize the parameters\n",
    "    dt = T / N\n",
    "    u = np.exp(sigma * (dt**.5))\n",
    "    d = 1/u\n",
    "    a = np.exp((r-q)*dt)\n",
    "    p = (a-d)/(u-d)\n",
    "    disc = np.exp(-r*dt)\n",
    "\n",
    "    # calculation of vega\n",
    "    u_hat = np.exp((sigma+dsigma) * (dt**.5))\n",
    "    d_hat = 1/u_hat\n",
    "    p_hat = (a-d_hat)/(u_hat-d_hat)\n",
    "\n",
    "    # calculation of rho\n",
    "    a_hat2 = np.exp(((r+dr)-q)*dt)\n",
    "    p_hat2 = (a_hat2-d)/(u-d)\n",
    "    disc_hat2 = np.exp(-(r+dr)*dt)\n",
    "\n",
    "    # initialize stock prices \n",
    "    S = np.zeros(N+1)\n",
    "    S_hat = np.zeros(N+1)\n",
    "    for i in range(len(S)):\n",
    "        S[i] = S0 * u**i * d**(N-i)\n",
    "        S_hat[i] = S0 * u_hat**i * d_hat**(N-i)\n",
    "    \n",
    "    # option payoff\n",
    "    C = np.zeros(N+1)\n",
    "    C_hat = np.zeros(N+1)\n",
    "    C_hat2 = np.zeros(N+1)\n",
    "    for i in range(len(C)):\n",
    "        C[i] = max(S[i] - K, 0)\n",
    "        C_hat[i] = max(S_hat[i] - K, 0)\n",
    "        C_hat2[i] = max(S[i] - K, 0)\n",
    "    \n",
    "    # backtrace of the tree\n",
    "    delta_lst = []\n",
    "    gamma_lst = []\n",
    "    for i in np.arange(N-1, -1, -1):\n",
    "        for j in range(i+1):\n",
    "            S = S0 * u**j * d**(i-j)\n",
    "            S_hat = S0 * u_hat**j * d_hat**(i-j)\n",
    "\n",
    "            C[j] = disc * (p*C[j+1] + (1-p)*C[j])\n",
    "            C[j] = max(C[j], S-K)\n",
    "\n",
    "            C_hat[j] = disc * (p_hat*C_hat[j+1] + (1-p_hat)*C_hat[j])\n",
    "            C_hat[j] = max(C_hat[j], S_hat-K)\n",
    "            C_hat2[j] = disc_hat2 * (p_hat2*C_hat2[j+1] + (1-p_hat2)*C_hat2[j])\n",
    "            C_hat2[j] = max(C_hat2[j], S-K)\n",
    "        \n",
    "        # keep the value of 2nd and 3rd layer of the tree for delta, \n",
    "        # gamma, and theta calculation\n",
    "        if i == 1:\n",
    "            delta_lst.append(C[0])\n",
    "            delta_lst.append(C[1])\n",
    "        elif i == 2:\n",
    "            gamma_lst.append(C[0])\n",
    "            gamma_lst.append(C[1])\n",
    "            gamma_lst.append(C[2])\n",
    "    \n",
    "    delta = (delta_lst[1]-delta_lst[0])/(S0*u-S0*d)\n",
    "    h = 0.5*(S0*u**2-S0*d**2)\n",
    "    gamma = ((gamma_lst[2]-gamma_lst[1])/(S0*u**2-S0) - \\\n",
    "             (gamma_lst[1]-gamma_lst[0])/(S0-S0*d**2))/h\n",
    "    theta = (gamma_lst[1]-C[0])/(2*dt)\n",
    "    vega = (C_hat[0]-C[0])/dsigma\n",
    "    rho = (C_hat2[0]-C[0])/dr\n",
    "    \n",
    "    return {\"option_price\":C[0], \n",
    "            \"delta\": delta, \n",
    "            \"gamma\": gamma, \n",
    "            \"theta\": theta, \n",
    "            \"vega\": vega, \n",
    "            \"rho\": rho}"
   ]
  },
  {
   "cell_type": "code",
   "execution_count": 4,
   "metadata": {},
   "outputs": [],
   "source": [
    "def BSM(s0:float=100, k:float=100, r:float=0.06, q:float=0.06, sigma:float=0.35, \n",
    "        T:float=1, call_option:bool=True) -> float:\n",
    "    '''\n",
    "    Implementation of black shore. Served as the true value of the option.\n",
    "    @param s0: spot price for the stock\n",
    "    @param k: strike price\n",
    "    @param r: risk free rate\n",
    "    @param q: dividend yield\n",
    "    @param sigma: volatility\n",
    "    @param T: time span\n",
    "    @param call_option: if a call or put option\n",
    "    @param seednum: random seed \n",
    "    \n",
    "    @return out: value of the option \n",
    "    '''\n",
    "    d1 = (np.log(s0/k) + (r - q + sigma**2/2)*T) / (sigma*np.sqrt(T))\n",
    "    d2 = d1 - sigma* np.sqrt(T)\n",
    "    \n",
    "    if call_option:\n",
    "        out = s0 * np.exp(-q*T) * norm.cdf(d1) - k * np.exp(-r*T) * norm.cdf(d2)\n",
    "    else:\n",
    "        out = k * np.exp(-r*T) * norm.cdf(-d2) - s0 * np.exp(-q*T) * norm.cdf(-d1)\n",
    "    return {\"bsm\": out}"
   ]
  },
  {
   "cell_type": "code",
   "execution_count": 7,
   "metadata": {},
   "outputs": [
    {
     "data": {
      "text/plain": [
       "({'option_price': 13.241257227890095,\n",
       "  'delta': 0.5480841683241352,\n",
       "  'gamma': 0.01117787442093923,\n",
       "  'theta': -6.056389015633634,\n",
       "  'vega': 37.37065521248901,\n",
       "  'rho': 34.63368771806756},\n",
       " {'bsm': 13.083027408250246})"
      ]
     },
     "execution_count": 7,
     "metadata": {},
     "output_type": "execute_result"
    }
   ],
   "source": [
    "CRR(), BSM()"
   ]
  }
 ],
 "metadata": {
  "kernelspec": {
   "display_name": "Python 3",
   "language": "python",
   "name": "python3"
  },
  "language_info": {
   "codemirror_mode": {
    "name": "ipython",
    "version": 3
   },
   "file_extension": ".py",
   "mimetype": "text/x-python",
   "name": "python",
   "nbconvert_exporter": "python",
   "pygments_lexer": "ipython3",
   "version": "3.11.6"
  }
 },
 "nbformat": 4,
 "nbformat_minor": 2
}
