{
 "cells": [
  {
   "cell_type": "code",
   "execution_count": 3,
   "metadata": {},
   "outputs": [],
   "source": [
    "import numpy as np\n",
    "from simplex import simplex, rationals"
   ]
  },
  {
   "cell_type": "code",
   "execution_count": 16,
   "metadata": {},
   "outputs": [],
   "source": [
    "# A = np.array([[1,3,0,4,1,1,0,0],[1,2,0,-3,1,0,1,0],[-1,-4,3,0,0,0,0,1]])\n",
    "# b = np.array([2,2,1])\n",
    "# c = np.array([0,0,0,0,0,1,1,1])\n",
    "\n",
    "A = np.array([[1,1,-1,0,0,1,0,0],[-1,1,0,-1,0,0,1,0],[0,1,0,0,1,0,0,1]])\n",
    "b = np.array([2,1,3])\n",
    "c = np.array([0,0,0,0,0,1,1,1])\n",
    "\n",
    "# A = np.array([[1,3,0,4,1],[1,2,0,-3,1],[-1,-4,3,0,0]])\n",
    "# b = np.array([2,2,1])\n",
    "# c = np.array([2,3,3,1,-2])\n",
    "\n",
    "# A = np.array([[2,0,0,4],[1,2,0,-3],[-1,-4,3,0]])\n",
    "# b = np.array([1,2,1])\n",
    "# c = np.array([-2,3,3,1])"
   ]
  },
  {
   "cell_type": "code",
   "execution_count": 34,
   "metadata": {},
   "outputs": [
    {
     "data": {
      "text/plain": [
       "(array([[ 1,  1, -1],\n",
       "        [-1,  1,  0],\n",
       "        [ 0,  1,  0]]),\n",
       " array([[ 0., -1.,  1.],\n",
       "        [ 0.,  0.,  1.],\n",
       "        [-1., -1.,  2.]]),\n",
       " array([0, 0, 1]))"
      ]
     },
     "execution_count": 34,
     "metadata": {},
     "output_type": "execute_result"
    }
   ],
   "source": [
    "invA = np.linalg.inv(A[:, [0,1,2]])\n",
    "col_t = np.dot(invA, A[:, 4])\n",
    "identity_delta = np.eye(3, 3)\n",
    "identity_delta[:, 1] = col_t\n",
    "invA, A[:, 4], col_t\n",
    "# A[:, [0,4,2]], np.dot(A[:, [0,1,2]], identity_delta)\n",
    "A[:, [0,1,2]], invA, A[:, 4]"
   ]
  },
  {
   "cell_type": "code",
   "execution_count": 14,
   "metadata": {},
   "outputs": [
    {
     "name": "stdout",
     "output_type": "stream",
     "text": [
      "Iteration 1:\n",
      "\tB=[6, 7, 8]\n",
      "\tc_bar=[ 0. -3.  1.  1. -1.  0.  0.  0.]\n",
      "\tb_bar=[2. 1. 3.]\n",
      "\tAt_bar=[1. 1. 1.]\n",
      "\ty_bar=[1. 1. 1.]\n",
      "\n",
      "Iteration 2:\n",
      "\tB=[6, 2, 8]\n",
      "\tc_bar=[-3.  0.  1. -2. -1.  0.  3.  0.]\n",
      "\tb_bar=[1. 1. 2.]\n",
      "\tAt_bar=[ 2. -1.  1.]\n",
      "\ty_bar=[ 1. -2.  1.]\n",
      "\n",
      "Iteration 3:\n",
      "\tB=[1, 2, 8]\n",
      "\tc_bar=[ 0.   0.  -0.5 -0.5 -1.   1.5  1.5  0. ]\n",
      "\tb_bar=[0.5 1.5 1.5]\n",
      "\tAt_bar=[-0.5 -0.5  0.5]\n",
      "\ty_bar=[-0.5 -0.5  1. ]\n",
      "\n",
      "The 4th iteration gives the optimal result of\n",
      "\tc_bar=[0. 0. 0. 0. 0. 1. 1. 1.]\n",
      "\tx=[2.0, 3.0, 3.0, 0, 0, 0, 0, 0]\n",
      "\ty=[0. 0. 0.]\n",
      "\tB=[1, 2, 3]\n"
     ]
    }
   ],
   "source": [
    "counter = 0\n",
    "basis = [5,6,7]\n",
    "while True:\n",
    "    b_bar = np.dot(np.linalg.inv(A[:, basis]), b)\n",
    "    y_bar = np.dot(c[basis], np.linalg.inv(A[:, basis]))\n",
    "    c_bar = c - np.dot(y_bar, A)\n",
    "    if all(c_bar>=0):\n",
    "        x_bar = list(b_bar)\n",
    "        x_bar += (A.shape[1]-len(b_bar))*[0]\n",
    "        print(f\"The {counter+1}th iteration gives the optimal result of\\n\\tc_bar={c_bar}\\n\\tx={x_bar}\\n\\ty={y_bar}\\n\\tB={[i+1 for i in basis]}\")\n",
    "        break\n",
    "    t = np.argmax(c_bar<0) # choose the first negative number (smallest index)\n",
    "    # t = np.argmin(c_bar) # choose the most negative number\n",
    "    At_bar = np.dot(np.linalg.inv(A[:, basis]), A[:, t])\n",
    "    if all(At_bar<=0):\n",
    "        print(f\"The {counter+1}th iteration gives the unbounded certificate\")\n",
    "        break\n",
    "    min_val = float(\"inf\")\n",
    "    r = 0\n",
    "    for i in range(len(b_bar)):\n",
    "        if At_bar[i] <= 0: continue\n",
    "        if b_bar[i]/At_bar[i] < min_val:\n",
    "            min_val = b_bar[i]/At_bar[i]\n",
    "            r = i\n",
    "    \n",
    "    print(f\"Iteration {counter+1}:\\n\\tB={[i+1 for i in basis]}\\n\\tc_bar={c_bar}\\n\\tb_bar={b_bar}\\n\\tAt_bar={At_bar}\\n\\ty_bar={y_bar}\\n\")\n",
    "\n",
    "    basis[r] = t\n",
    "\n",
    "    counter += 1"
   ]
  },
  {
   "cell_type": "markdown",
   "metadata": {},
   "source": [
    "## API Generated"
   ]
  },
  {
   "cell_type": "code",
   "execution_count": 15,
   "metadata": {},
   "outputs": [
    {
     "name": "stdout",
     "output_type": "stream",
     "text": [
      "             c  0  0  0  0  0  1  1  1            \n",
      "base base_name x1 x2 x3 x4 x5 x6 x7 x8 const theta\n",
      "   1        x6  1  1 -1  0  0  1  0  0     2     2\n",
      "   1        x7 -1  1  0 -1  0  0  1  0     1     1\n",
      "   1        x8  0  1  0  0  1  0  0  1     3     3\n",
      "            pi  0  3 -1 -1  1  1  1  1     6      \n",
      "        c - pi  0 -3  1  1 -1  0  0  0            \n",
      "pivot(col = x2, row = x7)\n",
      "--------------------------------------------------------------------------------\n",
      "             c  0  0  0  0  0  1  1  1            \n",
      "base base_name x1 x2 x3 x4 x5 x6 x7 x8 const theta\n",
      "   1        x6  2  0 -1  1  0  1 -1  0     1   1/2\n",
      "   0        x2 -1  1  0 -1  0  0  1  0     1   inf\n",
      "   1        x8  1  0  0  1  1  0 -1  1     2     2\n",
      "            pi  3  0 -1  2  1  1 -2  1     3      \n",
      "        c - pi -3  0  1 -2 -1  0  3  0            \n",
      "pivot(col = x1, row = x6)\n",
      "--------------------------------------------------------------------------------\n",
      "             c  0  0    0    0  0    1    1  1            \n",
      "base base_name x1 x2   x3   x4 x5   x6   x7 x8 const theta\n",
      "   0        x1  1  0 -1/2  1/2  0  1/2 -1/2  0   1/2   inf\n",
      "   0        x2  0  1 -1/2 -1/2  0  1/2  1/2  0   3/2   inf\n",
      "   1        x8  0  0  1/2  1/2  1 -1/2 -1/2  1   3/2   3/2\n",
      "            pi  0  0  1/2  1/2  1 -1/2 -1/2  1   3/2      \n",
      "        c - pi  0  0 -1/2 -1/2 -1  3/2  3/2  0            \n",
      "pivot(col = x5, row = x8)\n",
      "--------------------------------------------------------------------------------\n",
      "             c  0  0    0    0  0    1    1  1            \n",
      "base base_name x1 x2   x3   x4 x5   x6   x7 x8 const theta\n",
      "   0        x1  1  0 -1/2  1/2  0  1/2 -1/2  0   1/2      \n",
      "   0        x2  0  1 -1/2 -1/2  0  1/2  1/2  0   3/2      \n",
      "   0        x5  0  0  1/2  1/2  1 -1/2 -1/2  1   3/2      \n",
      "            pi  0  0    0    0  0    0    0  0     0      \n",
      "        c - pi  0  0    0    0  0    1    1  1            \n",
      "\n",
      "x1 = 1/2\n",
      "x2 = 3/2\n",
      "x3 = 0\n",
      "x4 = 0\n",
      "x5 = 3/2\n",
      "x6 = 0\n",
      "x7 = 0\n",
      "x8 = 0\n",
      "min = 0\n"
     ]
    }
   ],
   "source": [
    "MAX = False\n",
    "# m = np.array(rationals([[1,3,0,4,1,1,0,0,2],[1,2,0,-3,1,0,1,0,2],[-1,-4,3,0,0,0,0,1,1]]))\n",
    "m = np.array(rationals([[1,1,-1,0,0,1,0,0,2],[-1,1,0,-1,0,0,1,0,1],[0,1,0,0,1,0,0,1,3]]))\n",
    "c_name = [f'x{i+1}' for i in range(len(c))]\n",
    "base_name = ['x6', 'x7', 'x8']\n",
    "base = np.array([c[c_name.index(e)] for e in base_name])\n",
    "\n",
    "simplex(MAX, c, c_name, m, base, base_name)"
   ]
  }
 ],
 "metadata": {
  "kernelspec": {
   "display_name": "Python 3",
   "language": "python",
   "name": "python3"
  },
  "language_info": {
   "codemirror_mode": {
    "name": "ipython",
    "version": 3
   },
   "file_extension": ".py",
   "mimetype": "text/x-python",
   "name": "python",
   "nbconvert_exporter": "python",
   "pygments_lexer": "ipython3",
   "version": "3.11.6"
  },
  "orig_nbformat": 4
 },
 "nbformat": 4,
 "nbformat_minor": 2
}
